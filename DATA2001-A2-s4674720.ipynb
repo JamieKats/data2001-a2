{
 "cells": [
  {
   "cell_type": "markdown",
   "id": "40c631f0",
   "metadata": {},
   "source": [
    "# DATA2001 Assignment 2\n",
    "## Unstructured Data Analysis\n",
    "### Jamie Katsamatsas s4674720\n",
    "### <date>"
   ]
  },
  {
   "cell_type": "markdown",
   "id": "7991e1b9",
   "metadata": {},
   "source": [
    "# Task 1 - Data Preparation\n",
    "Read the dataset using the “pandas” library. Columns ‘Id’, ‘Score’ and ‘Text’\n",
    "are the only columns that should be used, and other columns must be ignored. To perform\n",
    "sentiment analysis, annotate the review dataset using already provided score column. Create\n",
    "new column ‘Label’. Assign ‘pos’ – positive for the product ratings 4 and 5. Assign ‘neg’ –\n",
    "negative for the product ratings 1 and 2. Product rating with score 3 should be ignored and\n",
    "dropped from the dataset. After annotating, produce the summary of the dataset. How many\n",
    "positive and negative reviews are present in the data. Print your summary."
   ]
  },
  {
   "cell_type": "markdown",
   "id": "674570b7",
   "metadata": {},
   "source": [
    "Column Descriptions\n",
    "- Id – review id\n",
    "- ProductId – id of the product\n",
    "- UserId – id of the user\n",
    "- ProfileName – name of the user\n",
    "- HelpfulnessNumerator – fraction of users who found the review helpful (numerator part)\n",
    "- HelpfulnessDenominator – fraction of users who found the review helpful (denominator part)\n",
    "- Score – rating of the product\n",
    "- Time – time of the review (in unix time)\n",
    "- Summary – review summary\n",
    "- Text – text of the review"
   ]
  },
  {
   "cell_type": "code",
   "execution_count": 1,
   "id": "7bc23431",
   "metadata": {},
   "outputs": [],
   "source": [
    "import pandas as pd\n",
    "from matplotlib import pyplot as plt"
   ]
  },
  {
   "cell_type": "code",
   "execution_count": 2,
   "id": "947720cc",
   "metadata": {},
   "outputs": [
    {
     "data": {
      "text/html": [
       "<div>\n",
       "<style scoped>\n",
       "    .dataframe tbody tr th:only-of-type {\n",
       "        vertical-align: middle;\n",
       "    }\n",
       "\n",
       "    .dataframe tbody tr th {\n",
       "        vertical-align: top;\n",
       "    }\n",
       "\n",
       "    .dataframe thead th {\n",
       "        text-align: right;\n",
       "    }\n",
       "</style>\n",
       "<table border=\"1\" class=\"dataframe\">\n",
       "  <thead>\n",
       "    <tr style=\"text-align: right;\">\n",
       "      <th></th>\n",
       "      <th>Id</th>\n",
       "      <th>ProductId</th>\n",
       "      <th>UserId</th>\n",
       "      <th>ProfileName</th>\n",
       "      <th>HelpfulnessNumerator</th>\n",
       "      <th>HelpfulnessDenominator</th>\n",
       "      <th>Score</th>\n",
       "      <th>Time</th>\n",
       "      <th>Summary</th>\n",
       "      <th>Text</th>\n",
       "    </tr>\n",
       "  </thead>\n",
       "  <tbody>\n",
       "    <tr>\n",
       "      <th>0</th>\n",
       "      <td>2</td>\n",
       "      <td>B00813GRG4</td>\n",
       "      <td>A1D87F6ZCVE5NK</td>\n",
       "      <td>dll pa</td>\n",
       "      <td>0</td>\n",
       "      <td>0</td>\n",
       "      <td>1</td>\n",
       "      <td>1346976000</td>\n",
       "      <td>Not as Advertised</td>\n",
       "      <td>Product arrived labeled as Jumbo Salted Peanut...</td>\n",
       "    </tr>\n",
       "    <tr>\n",
       "      <th>1</th>\n",
       "      <td>5</td>\n",
       "      <td>B006K2ZZ7K</td>\n",
       "      <td>A1UQRSCLF8GW1T</td>\n",
       "      <td>Michael D. Bigham \"M. Wassir\"</td>\n",
       "      <td>0</td>\n",
       "      <td>0</td>\n",
       "      <td>5</td>\n",
       "      <td>1350777600</td>\n",
       "      <td>Great taffy</td>\n",
       "      <td>Great taffy at a great price.  There was a wid...</td>\n",
       "    </tr>\n",
       "    <tr>\n",
       "      <th>2</th>\n",
       "      <td>10</td>\n",
       "      <td>B00171APVA</td>\n",
       "      <td>A21BT40VZCCYT4</td>\n",
       "      <td>Carol A. Reed</td>\n",
       "      <td>0</td>\n",
       "      <td>0</td>\n",
       "      <td>5</td>\n",
       "      <td>1351209600</td>\n",
       "      <td>Healthy Dog Food</td>\n",
       "      <td>This is a very healthy dog food. Good for thei...</td>\n",
       "    </tr>\n",
       "    <tr>\n",
       "      <th>3</th>\n",
       "      <td>17</td>\n",
       "      <td>B001GVISJM</td>\n",
       "      <td>A3KLWF6WQ5BNYO</td>\n",
       "      <td>Erica Neathery</td>\n",
       "      <td>0</td>\n",
       "      <td>0</td>\n",
       "      <td>2</td>\n",
       "      <td>1348099200</td>\n",
       "      <td>poor taste</td>\n",
       "      <td>I love eating them and they are good for watch...</td>\n",
       "    </tr>\n",
       "    <tr>\n",
       "      <th>4</th>\n",
       "      <td>39</td>\n",
       "      <td>B001EO5QW8</td>\n",
       "      <td>A2GHZ2UTV2B0CD</td>\n",
       "      <td>JERRY REITH</td>\n",
       "      <td>0</td>\n",
       "      <td>0</td>\n",
       "      <td>4</td>\n",
       "      <td>1350777600</td>\n",
       "      <td>GOOD WAY TO START THE DAY....</td>\n",
       "      <td>I WAS VISITING MY FRIEND NATE THE OTHER MORNIN...</td>\n",
       "    </tr>\n",
       "  </tbody>\n",
       "</table>\n",
       "</div>"
      ],
      "text/plain": [
       "   Id   ProductId          UserId                    ProfileName  \\\n",
       "0   2  B00813GRG4  A1D87F6ZCVE5NK                         dll pa   \n",
       "1   5  B006K2ZZ7K  A1UQRSCLF8GW1T  Michael D. Bigham \"M. Wassir\"   \n",
       "2  10  B00171APVA  A21BT40VZCCYT4                  Carol A. Reed   \n",
       "3  17  B001GVISJM  A3KLWF6WQ5BNYO                 Erica Neathery   \n",
       "4  39  B001EO5QW8  A2GHZ2UTV2B0CD                    JERRY REITH   \n",
       "\n",
       "   HelpfulnessNumerator  HelpfulnessDenominator  Score        Time  \\\n",
       "0                     0                       0      1  1346976000   \n",
       "1                     0                       0      5  1350777600   \n",
       "2                     0                       0      5  1351209600   \n",
       "3                     0                       0      2  1348099200   \n",
       "4                     0                       0      4  1350777600   \n",
       "\n",
       "                         Summary  \\\n",
       "0              Not as Advertised   \n",
       "1                    Great taffy   \n",
       "2               Healthy Dog Food   \n",
       "3                     poor taste   \n",
       "4  GOOD WAY TO START THE DAY....   \n",
       "\n",
       "                                                Text  \n",
       "0  Product arrived labeled as Jumbo Salted Peanut...  \n",
       "1  Great taffy at a great price.  There was a wid...  \n",
       "2  This is a very healthy dog food. Good for thei...  \n",
       "3  I love eating them and they are good for watch...  \n",
       "4  I WAS VISITING MY FRIEND NATE THE OTHER MORNIN...  "
      ]
     },
     "execution_count": 2,
     "metadata": {},
     "output_type": "execute_result"
    }
   ],
   "source": [
    "# Load data\n",
    "data = pd.read_csv(\"dataset.csv\")\n",
    "data.head()"
   ]
  },
  {
   "cell_type": "code",
   "execution_count": 3,
   "id": "3f70f21e",
   "metadata": {},
   "outputs": [
    {
     "name": "stdout",
     "output_type": "stream",
     "text": [
      "<class 'pandas.core.frame.DataFrame'>\n",
      "RangeIndex: 30365 entries, 0 to 30364\n",
      "Data columns (total 10 columns):\n",
      " #   Column                  Non-Null Count  Dtype \n",
      "---  ------                  --------------  ----- \n",
      " 0   Id                      30365 non-null  int64 \n",
      " 1   ProductId               30365 non-null  object\n",
      " 2   UserId                  30365 non-null  object\n",
      " 3   ProfileName             30363 non-null  object\n",
      " 4   HelpfulnessNumerator    30365 non-null  int64 \n",
      " 5   HelpfulnessDenominator  30365 non-null  int64 \n",
      " 6   Score                   30365 non-null  int64 \n",
      " 7   Time                    30365 non-null  int64 \n",
      " 8   Summary                 30365 non-null  object\n",
      " 9   Text                    30365 non-null  object\n",
      "dtypes: int64(5), object(5)\n",
      "memory usage: 2.3+ MB\n"
     ]
    }
   ],
   "source": [
    "# inspect data\n",
    "data.info()"
   ]
  },
  {
   "cell_type": "code",
   "execution_count": 4,
   "id": "b69342a3",
   "metadata": {},
   "outputs": [
    {
     "data": {
      "text/html": [
       "<div>\n",
       "<style scoped>\n",
       "    .dataframe tbody tr th:only-of-type {\n",
       "        vertical-align: middle;\n",
       "    }\n",
       "\n",
       "    .dataframe tbody tr th {\n",
       "        vertical-align: top;\n",
       "    }\n",
       "\n",
       "    .dataframe thead th {\n",
       "        text-align: right;\n",
       "    }\n",
       "</style>\n",
       "<table border=\"1\" class=\"dataframe\">\n",
       "  <thead>\n",
       "    <tr style=\"text-align: right;\">\n",
       "      <th></th>\n",
       "      <th>Id</th>\n",
       "      <th>Score</th>\n",
       "      <th>Text</th>\n",
       "    </tr>\n",
       "  </thead>\n",
       "  <tbody>\n",
       "    <tr>\n",
       "      <th>0</th>\n",
       "      <td>2</td>\n",
       "      <td>1</td>\n",
       "      <td>Product arrived labeled as Jumbo Salted Peanut...</td>\n",
       "    </tr>\n",
       "    <tr>\n",
       "      <th>1</th>\n",
       "      <td>5</td>\n",
       "      <td>5</td>\n",
       "      <td>Great taffy at a great price.  There was a wid...</td>\n",
       "    </tr>\n",
       "    <tr>\n",
       "      <th>2</th>\n",
       "      <td>10</td>\n",
       "      <td>5</td>\n",
       "      <td>This is a very healthy dog food. Good for thei...</td>\n",
       "    </tr>\n",
       "    <tr>\n",
       "      <th>3</th>\n",
       "      <td>17</td>\n",
       "      <td>2</td>\n",
       "      <td>I love eating them and they are good for watch...</td>\n",
       "    </tr>\n",
       "    <tr>\n",
       "      <th>4</th>\n",
       "      <td>39</td>\n",
       "      <td>4</td>\n",
       "      <td>I WAS VISITING MY FRIEND NATE THE OTHER MORNIN...</td>\n",
       "    </tr>\n",
       "    <tr>\n",
       "      <th>5</th>\n",
       "      <td>53</td>\n",
       "      <td>4</td>\n",
       "      <td>This wasn't in stock the last time I looked. I...</td>\n",
       "    </tr>\n",
       "    <tr>\n",
       "      <th>6</th>\n",
       "      <td>56</td>\n",
       "      <td>5</td>\n",
       "      <td>We roast these in a large cast iron pan on the...</td>\n",
       "    </tr>\n",
       "    <tr>\n",
       "      <th>7</th>\n",
       "      <td>77</td>\n",
       "      <td>5</td>\n",
       "      <td>These looked like a perfect snack to through i...</td>\n",
       "    </tr>\n",
       "    <tr>\n",
       "      <th>8</th>\n",
       "      <td>78</td>\n",
       "      <td>5</td>\n",
       "      <td>These taste really good. I have been purchasin...</td>\n",
       "    </tr>\n",
       "    <tr>\n",
       "      <th>9</th>\n",
       "      <td>79</td>\n",
       "      <td>3</td>\n",
       "      <td>The taste was great, but the berries had melte...</td>\n",
       "    </tr>\n",
       "  </tbody>\n",
       "</table>\n",
       "</div>"
      ],
      "text/plain": [
       "   Id  Score                                               Text\n",
       "0   2      1  Product arrived labeled as Jumbo Salted Peanut...\n",
       "1   5      5  Great taffy at a great price.  There was a wid...\n",
       "2  10      5  This is a very healthy dog food. Good for thei...\n",
       "3  17      2  I love eating them and they are good for watch...\n",
       "4  39      4  I WAS VISITING MY FRIEND NATE THE OTHER MORNIN...\n",
       "5  53      4  This wasn't in stock the last time I looked. I...\n",
       "6  56      5  We roast these in a large cast iron pan on the...\n",
       "7  77      5  These looked like a perfect snack to through i...\n",
       "8  78      5  These taste really good. I have been purchasin...\n",
       "9  79      3  The taste was great, but the berries had melte..."
      ]
     },
     "execution_count": 4,
     "metadata": {},
     "output_type": "execute_result"
    }
   ],
   "source": [
    "# drop all columns besides 'id', 'score', 'text'\n",
    "data.drop(data.columns.difference(['Id', 'Score', 'Text']), axis=1, inplace=True)\n",
    "data.head(10)"
   ]
  },
  {
   "cell_type": "code",
   "execution_count": 5,
   "id": "8ade9b6e",
   "metadata": {},
   "outputs": [
    {
     "data": {
      "text/html": [
       "<div>\n",
       "<style scoped>\n",
       "    .dataframe tbody tr th:only-of-type {\n",
       "        vertical-align: middle;\n",
       "    }\n",
       "\n",
       "    .dataframe tbody tr th {\n",
       "        vertical-align: top;\n",
       "    }\n",
       "\n",
       "    .dataframe thead th {\n",
       "        text-align: right;\n",
       "    }\n",
       "</style>\n",
       "<table border=\"1\" class=\"dataframe\">\n",
       "  <thead>\n",
       "    <tr style=\"text-align: right;\">\n",
       "      <th></th>\n",
       "      <th>Id</th>\n",
       "      <th>Score</th>\n",
       "      <th>Text</th>\n",
       "    </tr>\n",
       "  </thead>\n",
       "  <tbody>\n",
       "    <tr>\n",
       "      <th>0</th>\n",
       "      <td>2</td>\n",
       "      <td>1</td>\n",
       "      <td>Product arrived labeled as Jumbo Salted Peanut...</td>\n",
       "    </tr>\n",
       "    <tr>\n",
       "      <th>1</th>\n",
       "      <td>5</td>\n",
       "      <td>5</td>\n",
       "      <td>Great taffy at a great price.  There was a wid...</td>\n",
       "    </tr>\n",
       "    <tr>\n",
       "      <th>2</th>\n",
       "      <td>10</td>\n",
       "      <td>5</td>\n",
       "      <td>This is a very healthy dog food. Good for thei...</td>\n",
       "    </tr>\n",
       "    <tr>\n",
       "      <th>3</th>\n",
       "      <td>17</td>\n",
       "      <td>2</td>\n",
       "      <td>I love eating them and they are good for watch...</td>\n",
       "    </tr>\n",
       "    <tr>\n",
       "      <th>4</th>\n",
       "      <td>39</td>\n",
       "      <td>4</td>\n",
       "      <td>I WAS VISITING MY FRIEND NATE THE OTHER MORNIN...</td>\n",
       "    </tr>\n",
       "    <tr>\n",
       "      <th>5</th>\n",
       "      <td>53</td>\n",
       "      <td>4</td>\n",
       "      <td>This wasn't in stock the last time I looked. I...</td>\n",
       "    </tr>\n",
       "    <tr>\n",
       "      <th>6</th>\n",
       "      <td>56</td>\n",
       "      <td>5</td>\n",
       "      <td>We roast these in a large cast iron pan on the...</td>\n",
       "    </tr>\n",
       "    <tr>\n",
       "      <th>7</th>\n",
       "      <td>77</td>\n",
       "      <td>5</td>\n",
       "      <td>These looked like a perfect snack to through i...</td>\n",
       "    </tr>\n",
       "    <tr>\n",
       "      <th>8</th>\n",
       "      <td>78</td>\n",
       "      <td>5</td>\n",
       "      <td>These taste really good. I have been purchasin...</td>\n",
       "    </tr>\n",
       "    <tr>\n",
       "      <th>10</th>\n",
       "      <td>90</td>\n",
       "      <td>5</td>\n",
       "      <td>Great food! I love the idea of one food for al...</td>\n",
       "    </tr>\n",
       "  </tbody>\n",
       "</table>\n",
       "</div>"
      ],
      "text/plain": [
       "    Id  Score                                               Text\n",
       "0    2      1  Product arrived labeled as Jumbo Salted Peanut...\n",
       "1    5      5  Great taffy at a great price.  There was a wid...\n",
       "2   10      5  This is a very healthy dog food. Good for thei...\n",
       "3   17      2  I love eating them and they are good for watch...\n",
       "4   39      4  I WAS VISITING MY FRIEND NATE THE OTHER MORNIN...\n",
       "5   53      4  This wasn't in stock the last time I looked. I...\n",
       "6   56      5  We roast these in a large cast iron pan on the...\n",
       "7   77      5  These looked like a perfect snack to through i...\n",
       "8   78      5  These taste really good. I have been purchasin...\n",
       "10  90      5  Great food! I love the idea of one food for al..."
      ]
     },
     "execution_count": 5,
     "metadata": {},
     "output_type": "execute_result"
    }
   ],
   "source": [
    "# drop rows where \"Score\" == 3\n",
    "# https://www.statology.org/pandas-drop-rows-with-value/\n",
    "data = data[data[\"Score\"] != 3]\n",
    "data.head(10)"
   ]
  },
  {
   "cell_type": "code",
   "execution_count": 6,
   "id": "0bc9dcb9",
   "metadata": {},
   "outputs": [
    {
     "data": {
      "text/plain": [
       "5    19354\n",
       "4     3874\n",
       "1     3162\n",
       "2     1664\n",
       "Name: Score, dtype: int64"
      ]
     },
     "execution_count": 6,
     "metadata": {},
     "output_type": "execute_result"
    }
   ],
   "source": [
    "data['Score'].value_counts()"
   ]
  },
  {
   "cell_type": "code",
   "execution_count": 7,
   "id": "d95d04a9",
   "metadata": {},
   "outputs": [],
   "source": [
    "# Create label column\n",
    "# https://towardsdatascience.com/create-new-column-based-on-other-columns-pandas-5586d87de73d\n",
    "def sentiment(row):\n",
    "    if row[\"Score\"] in [4, 5]:\n",
    "        return 'pos'\n",
    "    elif row[\"Score\"] in [1, 2]:\n",
    "        return 'neg'"
   ]
  },
  {
   "cell_type": "code",
   "execution_count": 8,
   "id": "980ebb20",
   "metadata": {},
   "outputs": [],
   "source": [
    "data['Label'] = data.apply(lambda row: sentiment(row), axis=1)"
   ]
  },
  {
   "cell_type": "code",
   "execution_count": 9,
   "id": "742188b7",
   "metadata": {},
   "outputs": [
    {
     "data": {
      "text/html": [
       "<div>\n",
       "<style scoped>\n",
       "    .dataframe tbody tr th:only-of-type {\n",
       "        vertical-align: middle;\n",
       "    }\n",
       "\n",
       "    .dataframe tbody tr th {\n",
       "        vertical-align: top;\n",
       "    }\n",
       "\n",
       "    .dataframe thead th {\n",
       "        text-align: right;\n",
       "    }\n",
       "</style>\n",
       "<table border=\"1\" class=\"dataframe\">\n",
       "  <thead>\n",
       "    <tr style=\"text-align: right;\">\n",
       "      <th></th>\n",
       "      <th>Id</th>\n",
       "      <th>Score</th>\n",
       "      <th>Text</th>\n",
       "      <th>Label</th>\n",
       "    </tr>\n",
       "  </thead>\n",
       "  <tbody>\n",
       "    <tr>\n",
       "      <th>0</th>\n",
       "      <td>2</td>\n",
       "      <td>1</td>\n",
       "      <td>Product arrived labeled as Jumbo Salted Peanut...</td>\n",
       "      <td>neg</td>\n",
       "    </tr>\n",
       "    <tr>\n",
       "      <th>1</th>\n",
       "      <td>5</td>\n",
       "      <td>5</td>\n",
       "      <td>Great taffy at a great price.  There was a wid...</td>\n",
       "      <td>pos</td>\n",
       "    </tr>\n",
       "    <tr>\n",
       "      <th>2</th>\n",
       "      <td>10</td>\n",
       "      <td>5</td>\n",
       "      <td>This is a very healthy dog food. Good for thei...</td>\n",
       "      <td>pos</td>\n",
       "    </tr>\n",
       "    <tr>\n",
       "      <th>3</th>\n",
       "      <td>17</td>\n",
       "      <td>2</td>\n",
       "      <td>I love eating them and they are good for watch...</td>\n",
       "      <td>neg</td>\n",
       "    </tr>\n",
       "    <tr>\n",
       "      <th>4</th>\n",
       "      <td>39</td>\n",
       "      <td>4</td>\n",
       "      <td>I WAS VISITING MY FRIEND NATE THE OTHER MORNIN...</td>\n",
       "      <td>pos</td>\n",
       "    </tr>\n",
       "  </tbody>\n",
       "</table>\n",
       "</div>"
      ],
      "text/plain": [
       "   Id  Score                                               Text Label\n",
       "0   2      1  Product arrived labeled as Jumbo Salted Peanut...   neg\n",
       "1   5      5  Great taffy at a great price.  There was a wid...   pos\n",
       "2  10      5  This is a very healthy dog food. Good for thei...   pos\n",
       "3  17      2  I love eating them and they are good for watch...   neg\n",
       "4  39      4  I WAS VISITING MY FRIEND NATE THE OTHER MORNIN...   pos"
      ]
     },
     "execution_count": 9,
     "metadata": {},
     "output_type": "execute_result"
    }
   ],
   "source": [
    "data.head()"
   ]
  },
  {
   "cell_type": "code",
   "execution_count": 10,
   "id": "983cd523",
   "metadata": {},
   "outputs": [
    {
     "data": {
      "text/plain": [
       "pos    23228\n",
       "neg     4826\n",
       "Name: Label, dtype: int64"
      ]
     },
     "execution_count": 10,
     "metadata": {},
     "output_type": "execute_result"
    }
   ],
   "source": [
    "data['Label'].value_counts()"
   ]
  },
  {
   "cell_type": "code",
   "execution_count": 11,
   "id": "54cb0a29",
   "metadata": {},
   "outputs": [
    {
     "data": {
      "text/plain": [
       "<AxesSubplot:title={'center':'Distribution of Sentiment'}, ylabel='Label'>"
      ]
     },
     "execution_count": 11,
     "metadata": {},
     "output_type": "execute_result"
    },
    {
     "data": {
      "image/png": "[encoded data removed]",
      "text/plain": [
       "<Figure size 432x288 with 1 Axes>"
      ]
     },
     "metadata": {},
     "output_type": "display_data"
    }
   ],
   "source": [
    "sentiment_distribution = data['Label'].value_counts(dropna=False, normalize=True)\n",
    "sentiment_distribution.plot.pie(autopct=\"%1.0f%%\", pctdistance=0.8, radius=1, title=\"Distribution of Sentiment\")"
   ]
  },
  {
   "cell_type": "markdown",
   "id": "e4c6a96a",
   "metadata": {},
   "source": [
    "In the dataset there are 23228 positive reviews and 4826 negative reviews. Which results in 83% positive and 17% negative indicating that the dataset is imbalanced."
   ]
  },
  {
   "cell_type": "markdown",
   "id": "3cd7f918",
   "metadata": {},
   "source": [
    "# Task 2 - Data Cleaning\n",
    "Write the necessary scripts to clean the text in the review dataset and explain\n",
    "the steps along with the justification in less than 4 lines."
   ]
  },
  {
   "cell_type": "markdown",
   "id": "36f508be",
   "metadata": {},
   "source": [
    "# Task 3 - Logistic Regression Model\n",
    "Build a logistic regression text classifier to categorise whether review has positive or negative\n",
    "sentiment. 70% of the reviews should be used for training and the remaining 30% for the\n",
    "testing. List the steps taken in your own words to build the model in less than 4 lines."
   ]
  },
  {
   "cell_type": "markdown",
   "id": "b6909242",
   "metadata": {},
   "source": [
    "# Task 4 - Evaluate Model\n",
    "Evaluate the model built in the previous step and compare it with a baseline model that\n",
    "assigns positive label to all test samples. A) Report accuracy and only for the negative class\n",
    "report precision, recall, f1 score; and B) show a confusion matrix for both the baseline and the\n",
    "logistic regression models. Explain the cause of difference between the accuracy and the f1\n",
    "score of the negative class for the baseline model.\n",
    "\n",
    "Result should be written in below format: (CHECK PDF SPEC SHEET)\n",
    "\n",
    "    A)\n",
    "    Baseline: {‘accuracy’:0.0, ‘precision’:0.0, ’recall’:0.0, ‘f1-score’:0.0}\n",
    "    Logisticregression: {‘accuracy’:0.0, ‘precision’:0.0, ’recall’:0.0, ‘f1-score’:0.0}\n",
    "    B)\n",
    "    Confusion matrix for baseline model:"
   ]
  },
  {
   "cell_type": "markdown",
   "id": "77dfc4a3",
   "metadata": {},
   "source": [
    "# Task 5 - Prediction of Predict Database\n",
    "Use the better performing model (hopefully your logistic regression model) to predict the sentiment for the reviews provided in the predict dataset (download ‘predictdata.csv’ from the blackboard). Report the results in a dataframe format with columns ‘Id’, ‘Text’ and ‘Model Prediction’."
   ]
  },
  {
   "cell_type": "markdown",
   "id": "63ca4bb5",
   "metadata": {},
   "source": [
    "# Task 6 - Frequent Words\n",
    "What are the most frequent words in the review dataset (use a world cloud to show this, remove stop words) and show which words play a significant role in classify whether the review is positive or negative."
   ]
  },
  {
   "cell_type": "markdown",
   "id": "bcc124f6",
   "metadata": {},
   "source": [
    "# Task 7 - Classification with Unabalnced Data\n",
    "Write in three lines with your own words about classification with unbalanced data. What is the issue with unbalanced data and how you could handle it in a better way (you don’t need to implement your solution)? Provide the issue with imbalanced classification and your suggestion in less than 4 sentences that reader can understand clearly using research from the internet resources."
   ]
  }
 ],
 "metadata": {
  "kernelspec": {
   "display_name": "Python 3 (ipykernel)",
   "language": "python",
   "name": "python3"
  },
  "language_info": {
   "codemirror_mode": {
    "name": "ipython",
    "version": 3
   },
   "file_extension": ".py",
   "mimetype": "text/x-python",
   "name": "python",
   "nbconvert_exporter": "python",
   "pygments_lexer": "ipython3",
   "version": "3.9.13"
  }
 },
 "nbformat": 4,
 "nbformat_minor": 5
}
