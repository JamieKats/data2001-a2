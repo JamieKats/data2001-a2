{
 "cells": [
  {
   "cell_type": "markdown",
   "id": "0875db2b",
   "metadata": {},
   "source": [
    "# DATA2001 Assignment 2\n",
    "## Unstructured Data Analysis\n",
    "### Jamie Katsamatsas s4674720\n",
    "### 6/10/2022"
   ]
  },
  {
   "cell_type": "markdown",
   "id": "b3d5d522",
   "metadata": {},
   "source": [
    "# Task 1 - Data Preparation\n",
    "Read the dataset using the “pandas” library. Columns ‘Id’, ‘Score’ and ‘Text’\n",
    "are the only columns that should be used, and other columns must be ignored. To perform\n",
    "sentiment analysis, annotate the review dataset using already provided score column. Create\n",
    "new column ‘Label’. Assign ‘pos’ – positive for the product ratings 4 and 5. Assign ‘neg’ –\n",
    "negative for the product ratings 1 and 2. Product rating with score 3 should be ignored and\n",
    "dropped from the dataset. After annotating, produce the summary of the dataset. How many\n",
    "positive and negative reviews are present in the data. Print your summary."
   ]
  },
  {
   "cell_type": "markdown",
   "id": "5e993022",
   "metadata": {},
   "source": [
    "#### Column Descriptions\n",
    "- Id – review id\n",
    "- ProductId – id of the product\n",
    "- UserId – id of the user\n",
    "- ProfileName – name of the user\n",
    "- HelpfulnessNumerator – fraction of users who found the review helpful (numerator part)\n",
    "- HelpfulnessDenominator – fraction of users who found the review helpful (denominator part)\n",
    "- Score – rating of the product\n",
    "- Time – time of the review (in unix time)\n",
    "- Summary – review summary\n",
    "- Text – text of the review"
   ]
  },
  {
   "cell_type": "code",
   "execution_count": 1,
   "id": "65a81d58",
   "metadata": {},
   "outputs": [],
   "source": [
    "import pandas as pd\n",
    "from matplotlib import pyplot as plt"
   ]
  },
  {
   "cell_type": "code",
   "execution_count": 2,
   "id": "bdd2f6d4",
   "metadata": {},
   "outputs": [
    {
     "data": {
      "text/html": [
       "<div>\n",
       "<style scoped>\n",
       "    .dataframe tbody tr th:only-of-type {\n",
       "        vertical-align: middle;\n",
       "    }\n",
       "\n",
       "    .dataframe tbody tr th {\n",
       "        vertical-align: top;\n",
       "    }\n",
       "\n",
       "    .dataframe thead th {\n",
       "        text-align: right;\n",
       "    }\n",
       "</style>\n",
       "<table border=\"1\" class=\"dataframe\">\n",
       "  <thead>\n",
       "    <tr style=\"text-align: right;\">\n",
       "      <th></th>\n",
       "      <th>Id</th>\n",
       "      <th>ProductId</th>\n",
       "      <th>UserId</th>\n",
       "      <th>ProfileName</th>\n",
       "      <th>HelpfulnessNumerator</th>\n",
       "      <th>HelpfulnessDenominator</th>\n",
       "      <th>Score</th>\n",
       "      <th>Time</th>\n",
       "      <th>Summary</th>\n",
       "      <th>Text</th>\n",
       "    </tr>\n",
       "  </thead>\n",
       "  <tbody>\n",
       "    <tr>\n",
       "      <th>0</th>\n",
       "      <td>2</td>\n",
       "      <td>B00813GRG4</td>\n",
       "      <td>A1D87F6ZCVE5NK</td>\n",
       "      <td>dll pa</td>\n",
       "      <td>0</td>\n",
       "      <td>0</td>\n",
       "      <td>1</td>\n",
       "      <td>1346976000</td>\n",
       "      <td>Not as Advertised</td>\n",
       "      <td>Product arrived labeled as Jumbo Salted Peanut...</td>\n",
       "    </tr>\n",
       "    <tr>\n",
       "      <th>1</th>\n",
       "      <td>5</td>\n",
       "      <td>B006K2ZZ7K</td>\n",
       "      <td>A1UQRSCLF8GW1T</td>\n",
       "      <td>Michael D. Bigham \"M. Wassir\"</td>\n",
       "      <td>0</td>\n",
       "      <td>0</td>\n",
       "      <td>5</td>\n",
       "      <td>1350777600</td>\n",
       "      <td>Great taffy</td>\n",
       "      <td>Great taffy at a great price.  There was a wid...</td>\n",
       "    </tr>\n",
       "    <tr>\n",
       "      <th>2</th>\n",
       "      <td>10</td>\n",
       "      <td>B00171APVA</td>\n",
       "      <td>A21BT40VZCCYT4</td>\n",
       "      <td>Carol A. Reed</td>\n",
       "      <td>0</td>\n",
       "      <td>0</td>\n",
       "      <td>5</td>\n",
       "      <td>1351209600</td>\n",
       "      <td>Healthy Dog Food</td>\n",
       "      <td>This is a very healthy dog food. Good for thei...</td>\n",
       "    </tr>\n",
       "    <tr>\n",
       "      <th>3</th>\n",
       "      <td>17</td>\n",
       "      <td>B001GVISJM</td>\n",
       "      <td>A3KLWF6WQ5BNYO</td>\n",
       "      <td>Erica Neathery</td>\n",
       "      <td>0</td>\n",
       "      <td>0</td>\n",
       "      <td>2</td>\n",
       "      <td>1348099200</td>\n",
       "      <td>poor taste</td>\n",
       "      <td>I love eating them and they are good for watch...</td>\n",
       "    </tr>\n",
       "    <tr>\n",
       "      <th>4</th>\n",
       "      <td>39</td>\n",
       "      <td>B001EO5QW8</td>\n",
       "      <td>A2GHZ2UTV2B0CD</td>\n",
       "      <td>JERRY REITH</td>\n",
       "      <td>0</td>\n",
       "      <td>0</td>\n",
       "      <td>4</td>\n",
       "      <td>1350777600</td>\n",
       "      <td>GOOD WAY TO START THE DAY....</td>\n",
       "      <td>I WAS VISITING MY FRIEND NATE THE OTHER MORNIN...</td>\n",
       "    </tr>\n",
       "  </tbody>\n",
       "</table>\n",
       "</div>"
      ],
      "text/plain": [
       "   Id   ProductId          UserId                    ProfileName  \\\n",
       "0   2  B00813GRG4  A1D87F6ZCVE5NK                         dll pa   \n",
       "1   5  B006K2ZZ7K  A1UQRSCLF8GW1T  Michael D. Bigham \"M. Wassir\"   \n",
       "2  10  B00171APVA  A21BT40VZCCYT4                  Carol A. Reed   \n",
       "3  17  B001GVISJM  A3KLWF6WQ5BNYO                 Erica Neathery   \n",
       "4  39  B001EO5QW8  A2GHZ2UTV2B0CD                    JERRY REITH   \n",
       "\n",
       "   HelpfulnessNumerator  HelpfulnessDenominator  Score        Time  \\\n",
       "0                     0                       0      1  1346976000   \n",
       "1                     0                       0      5  1350777600   \n",
       "2                     0                       0      5  1351209600   \n",
       "3                     0                       0      2  1348099200   \n",
       "4                     0                       0      4  1350777600   \n",
       "\n",
       "                         Summary  \\\n",
       "0              Not as Advertised   \n",
       "1                    Great taffy   \n",
       "2               Healthy Dog Food   \n",
       "3                     poor taste   \n",
       "4  GOOD WAY TO START THE DAY....   \n",
       "\n",
       "                                                Text  \n",
       "0  Product arrived labeled as Jumbo Salted Peanut...  \n",
       "1  Great taffy at a great price.  There was a wid...  \n",
       "2  This is a very healthy dog food. Good for thei...  \n",
       "3  I love eating them and they are good for watch...  \n",
       "4  I WAS VISITING MY FRIEND NATE THE OTHER MORNIN...  "
      ]
     },
     "execution_count": 2,
     "metadata": {},
     "output_type": "execute_result"
    }
   ],
   "source": [
    "# Load data\n",
    "data = pd.read_csv(\"dataset.csv\")\n",
    "data.head()"
   ]
  },
  {
   "cell_type": "code",
   "execution_count": 4,
   "id": "cf3310d2",
   "metadata": {},
   "outputs": [
    {
     "name": "stdout",
     "output_type": "stream",
     "text": [
      "<class 'pandas.core.frame.DataFrame'>\n",
      "RangeIndex: 30365 entries, 0 to 30364\n",
      "Data columns (total 10 columns):\n",
      " #   Column                  Non-Null Count  Dtype \n",
      "---  ------                  --------------  ----- \n",
      " 0   Id                      30365 non-null  int64 \n",
      " 1   ProductId               30365 non-null  object\n",
      " 2   UserId                  30365 non-null  object\n",
      " 3   ProfileName             30363 non-null  object\n",
      " 4   HelpfulnessNumerator    30365 non-null  int64 \n",
      " 5   HelpfulnessDenominator  30365 non-null  int64 \n",
      " 6   Score                   30365 non-null  int64 \n",
      " 7   Time                    30365 non-null  int64 \n",
      " 8   Summary                 30365 non-null  object\n",
      " 9   Text                    30365 non-null  object\n",
      "dtypes: int64(5), object(5)\n",
      "memory usage: 2.3+ MB\n"
     ]
    }
   ],
   "source": [
    "# inspect data\n",
    "data.info()"
   ]
  },
  {
   "cell_type": "code",
   "execution_count": 5,
   "id": "af96d585",
   "metadata": {},
   "outputs": [
    {
     "data": {
      "text/html": [
       "<div>\n",
       "<style scoped>\n",
       "    .dataframe tbody tr th:only-of-type {\n",
       "        vertical-align: middle;\n",
       "    }\n",
       "\n",
       "    .dataframe tbody tr th {\n",
       "        vertical-align: top;\n",
       "    }\n",
       "\n",
       "    .dataframe thead th {\n",
       "        text-align: right;\n",
       "    }\n",
       "</style>\n",
       "<table border=\"1\" class=\"dataframe\">\n",
       "  <thead>\n",
       "    <tr style=\"text-align: right;\">\n",
       "      <th></th>\n",
       "      <th>Id</th>\n",
       "      <th>Score</th>\n",
       "      <th>Text</th>\n",
       "    </tr>\n",
       "  </thead>\n",
       "  <tbody>\n",
       "    <tr>\n",
       "      <th>0</th>\n",
       "      <td>2</td>\n",
       "      <td>1</td>\n",
       "      <td>Product arrived labeled as Jumbo Salted Peanut...</td>\n",
       "    </tr>\n",
       "    <tr>\n",
       "      <th>1</th>\n",
       "      <td>5</td>\n",
       "      <td>5</td>\n",
       "      <td>Great taffy at a great price.  There was a wid...</td>\n",
       "    </tr>\n",
       "    <tr>\n",
       "      <th>2</th>\n",
       "      <td>10</td>\n",
       "      <td>5</td>\n",
       "      <td>This is a very healthy dog food. Good for thei...</td>\n",
       "    </tr>\n",
       "    <tr>\n",
       "      <th>3</th>\n",
       "      <td>17</td>\n",
       "      <td>2</td>\n",
       "      <td>I love eating them and they are good for watch...</td>\n",
       "    </tr>\n",
       "    <tr>\n",
       "      <th>4</th>\n",
       "      <td>39</td>\n",
       "      <td>4</td>\n",
       "      <td>I WAS VISITING MY FRIEND NATE THE OTHER MORNIN...</td>\n",
       "    </tr>\n",
       "    <tr>\n",
       "      <th>5</th>\n",
       "      <td>53</td>\n",
       "      <td>4</td>\n",
       "      <td>This wasn't in stock the last time I looked. I...</td>\n",
       "    </tr>\n",
       "    <tr>\n",
       "      <th>6</th>\n",
       "      <td>56</td>\n",
       "      <td>5</td>\n",
       "      <td>We roast these in a large cast iron pan on the...</td>\n",
       "    </tr>\n",
       "    <tr>\n",
       "      <th>7</th>\n",
       "      <td>77</td>\n",
       "      <td>5</td>\n",
       "      <td>These looked like a perfect snack to through i...</td>\n",
       "    </tr>\n",
       "    <tr>\n",
       "      <th>8</th>\n",
       "      <td>78</td>\n",
       "      <td>5</td>\n",
       "      <td>These taste really good. I have been purchasin...</td>\n",
       "    </tr>\n",
       "    <tr>\n",
       "      <th>9</th>\n",
       "      <td>79</td>\n",
       "      <td>3</td>\n",
       "      <td>The taste was great, but the berries had melte...</td>\n",
       "    </tr>\n",
       "  </tbody>\n",
       "</table>\n",
       "</div>"
      ],
      "text/plain": [
       "   Id  Score                                               Text\n",
       "0   2      1  Product arrived labeled as Jumbo Salted Peanut...\n",
       "1   5      5  Great taffy at a great price.  There was a wid...\n",
       "2  10      5  This is a very healthy dog food. Good for thei...\n",
       "3  17      2  I love eating them and they are good for watch...\n",
       "4  39      4  I WAS VISITING MY FRIEND NATE THE OTHER MORNIN...\n",
       "5  53      4  This wasn't in stock the last time I looked. I...\n",
       "6  56      5  We roast these in a large cast iron pan on the...\n",
       "7  77      5  These looked like a perfect snack to through i...\n",
       "8  78      5  These taste really good. I have been purchasin...\n",
       "9  79      3  The taste was great, but the berries had melte..."
      ]
     },
     "execution_count": 5,
     "metadata": {},
     "output_type": "execute_result"
    }
   ],
   "source": [
    "# drop all columns besides 'id', 'score', 'text'\n",
    "data.drop(data.columns.difference(['Id', 'Score', 'Text']), axis=1, inplace=True)\n",
    "data.head(10)"
   ]
  },
  {
   "cell_type": "code",
   "execution_count": 7,
   "id": "f5dc3e0a",
   "metadata": {},
   "outputs": [
    {
     "data": {
      "text/plain": [
       "5    19354\n",
       "4     3874\n",
       "1     3162\n",
       "2     1664\n",
       "Name: Score, dtype: int64"
      ]
     },
     "execution_count": 7,
     "metadata": {},
     "output_type": "execute_result"
    }
   ],
   "source": [
    "# drop rows where \"Score\" == 3\n",
    "# https://www.statology.org/pandas-drop-rows-with-value/\n",
    "data = data[data[\"Score\"] != 3]\n",
    "data[\"Score\"].value_counts()"
   ]
  },
  {
   "cell_type": "code",
   "execution_count": 8,
   "id": "de20242b",
   "metadata": {},
   "outputs": [],
   "source": [
    "# Create label column\n",
    "# https://towardsdatascience.com/create-new-column-based-on-other-columns-pandas-5586d87de73d\n",
    "def sentiment(row):\n",
    "    if row[\"Score\"] in [4, 5]:\n",
    "        return 'pos'\n",
    "    elif row[\"Score\"] in [1, 2]:\n",
    "        return 'neg'"
   ]
  },
  {
   "cell_type": "code",
   "execution_count": 9,
   "id": "a112ebf5",
   "metadata": {},
   "outputs": [],
   "source": [
    "# apply sentiment function to data\n",
    "data['Label'] = data.apply(lambda row: sentiment(row), axis=1)"
   ]
  },
  {
   "cell_type": "code",
   "execution_count": 10,
   "id": "10d3e043",
   "metadata": {},
   "outputs": [
    {
     "data": {
      "text/html": [
       "<div>\n",
       "<style scoped>\n",
       "    .dataframe tbody tr th:only-of-type {\n",
       "        vertical-align: middle;\n",
       "    }\n",
       "\n",
       "    .dataframe tbody tr th {\n",
       "        vertical-align: top;\n",
       "    }\n",
       "\n",
       "    .dataframe thead th {\n",
       "        text-align: right;\n",
       "    }\n",
       "</style>\n",
       "<table border=\"1\" class=\"dataframe\">\n",
       "  <thead>\n",
       "    <tr style=\"text-align: right;\">\n",
       "      <th></th>\n",
       "      <th>Id</th>\n",
       "      <th>Score</th>\n",
       "      <th>Text</th>\n",
       "      <th>Label</th>\n",
       "    </tr>\n",
       "  </thead>\n",
       "  <tbody>\n",
       "    <tr>\n",
       "      <th>0</th>\n",
       "      <td>2</td>\n",
       "      <td>1</td>\n",
       "      <td>Product arrived labeled as Jumbo Salted Peanut...</td>\n",
       "      <td>neg</td>\n",
       "    </tr>\n",
       "    <tr>\n",
       "      <th>1</th>\n",
       "      <td>5</td>\n",
       "      <td>5</td>\n",
       "      <td>Great taffy at a great price.  There was a wid...</td>\n",
       "      <td>pos</td>\n",
       "    </tr>\n",
       "    <tr>\n",
       "      <th>2</th>\n",
       "      <td>10</td>\n",
       "      <td>5</td>\n",
       "      <td>This is a very healthy dog food. Good for thei...</td>\n",
       "      <td>pos</td>\n",
       "    </tr>\n",
       "    <tr>\n",
       "      <th>3</th>\n",
       "      <td>17</td>\n",
       "      <td>2</td>\n",
       "      <td>I love eating them and they are good for watch...</td>\n",
       "      <td>neg</td>\n",
       "    </tr>\n",
       "    <tr>\n",
       "      <th>4</th>\n",
       "      <td>39</td>\n",
       "      <td>4</td>\n",
       "      <td>I WAS VISITING MY FRIEND NATE THE OTHER MORNIN...</td>\n",
       "      <td>pos</td>\n",
       "    </tr>\n",
       "  </tbody>\n",
       "</table>\n",
       "</div>"
      ],
      "text/plain": [
       "   Id  Score                                               Text Label\n",
       "0   2      1  Product arrived labeled as Jumbo Salted Peanut...   neg\n",
       "1   5      5  Great taffy at a great price.  There was a wid...   pos\n",
       "2  10      5  This is a very healthy dog food. Good for thei...   pos\n",
       "3  17      2  I love eating them and they are good for watch...   neg\n",
       "4  39      4  I WAS VISITING MY FRIEND NATE THE OTHER MORNIN...   pos"
      ]
     },
     "execution_count": 10,
     "metadata": {},
     "output_type": "execute_result"
    }
   ],
   "source": [
    "data.head()"
   ]
  },
  {
   "cell_type": "code",
   "execution_count": 11,
   "id": "18b666ce",
   "metadata": {},
   "outputs": [
    {
     "data": {
      "text/plain": [
       "pos    23228\n",
       "neg     4826\n",
       "Name: Label, dtype: int64"
      ]
     },
     "execution_count": 11,
     "metadata": {},
     "output_type": "execute_result"
    }
   ],
   "source": [
    "data['Label'].value_counts()"
   ]
  },
  {
   "cell_type": "code",
   "execution_count": 12,
   "id": "2b42b6f3",
   "metadata": {},
   "outputs": [
    {
     "data": {
      "text/plain": [
       "<AxesSubplot:title={'center':'Distribution of Sentiment'}, ylabel='Label'>"
      ]
     },
     "execution_count": 12,
     "metadata": {},
     "output_type": "execute_result"
    },
    {
     "data": {
      "image/png": "[encoded data removed]",
      "text/plain": [
       "<Figure size 432x288 with 1 Axes>"
      ]
     },
     "metadata": {},
     "output_type": "display_data"
    }
   ],
   "source": [
    "sentiment_distribution = data['Label'].value_counts(dropna=False, normalize=True)\n",
    "sentiment_distribution.plot.pie(autopct=\"%1.0f%%\", pctdistance=0.8, radius=1, title=\"Distribution of Sentiment\")"
   ]
  },
  {
   "cell_type": "markdown",
   "id": "48e6bdaa",
   "metadata": {},
   "source": [
    "In the dataset there are 23228 positive reviews and 4826 negative reviews. Which results in 83% positive and 17% negative indicating that the dataset is imbalanced."
   ]
  },
  {
   "cell_type": "markdown",
   "id": "9e23b86a",
   "metadata": {},
   "source": [
    "# Task 2 - Data Cleaning\n",
    "Write the necessary scripts to clean the text in the review dataset and explain\n",
    "the steps along with the justification in less than 4 lines."
   ]
  },
  {
   "cell_type": "code",
   "execution_count": 14,
   "id": "c3bd1932",
   "metadata": {},
   "outputs": [
    {
     "data": {
      "text/plain": [
       "Id       28054\n",
       "Score    28054\n",
       "Text     28054\n",
       "Label    28054\n",
       "dtype: int64"
      ]
     },
     "execution_count": 14,
     "metadata": {},
     "output_type": "execute_result"
    }
   ],
   "source": [
    "# discard the duplicates\n",
    "data.drop_duplicates(keep='first', inplace=True)\n",
    "data.count()"
   ]
  },
  {
   "cell_type": "markdown",
   "id": "9ea97cb3",
   "metadata": {},
   "source": [
    "##### Clean the labelled data"
   ]
  },
  {
   "cell_type": "code",
   "execution_count": 15,
   "id": "2a9bd36a",
   "metadata": {},
   "outputs": [],
   "source": [
    "import re\n",
    "\n",
    "def clean_review(review):\n",
    "    \n",
    "    # remove new line characters (\\n)\n",
    "    review = re.sub(r\"\\\\n\",\" \", review)\n",
    "    \n",
    "    # convert review text to lowercase\n",
    "    review = review.lower().strip()\n",
    "    \n",
    "    # remove </br> tag\n",
    "    review = review.replace('< /br>', ' ')\n",
    "    \n",
    "    # remove any html tags\n",
    "    # https://stackoverflow.com/questions/753052/strip-html-from-strings-in-python\n",
    "    review = re.sub('<[^<]+>', ' ', review)\n",
    "\n",
    "    # remove any weired characters\n",
    "    review = re.sub(r\"[^A-Za-z*'-]+\", \" \", review)\n",
    "    \n",
    "    return review"
   ]
  },
  {
   "cell_type": "code",
   "execution_count": 16,
   "id": "a33d2d1b",
   "metadata": {},
   "outputs": [
    {
     "data": {
      "text/html": [
       "<div>\n",
       "<style scoped>\n",
       "    .dataframe tbody tr th:only-of-type {\n",
       "        vertical-align: middle;\n",
       "    }\n",
       "\n",
       "    .dataframe tbody tr th {\n",
       "        vertical-align: top;\n",
       "    }\n",
       "\n",
       "    .dataframe thead th {\n",
       "        text-align: right;\n",
       "    }\n",
       "</style>\n",
       "<table border=\"1\" class=\"dataframe\">\n",
       "  <thead>\n",
       "    <tr style=\"text-align: right;\">\n",
       "      <th></th>\n",
       "      <th>Id</th>\n",
       "      <th>Score</th>\n",
       "      <th>Text</th>\n",
       "      <th>Label</th>\n",
       "    </tr>\n",
       "  </thead>\n",
       "  <tbody>\n",
       "    <tr>\n",
       "      <th>0</th>\n",
       "      <td>2</td>\n",
       "      <td>1</td>\n",
       "      <td>product arrived labeled as jumbo salted peanut...</td>\n",
       "      <td>neg</td>\n",
       "    </tr>\n",
       "    <tr>\n",
       "      <th>1</th>\n",
       "      <td>5</td>\n",
       "      <td>5</td>\n",
       "      <td>great taffy at a great price there was a wide ...</td>\n",
       "      <td>pos</td>\n",
       "    </tr>\n",
       "    <tr>\n",
       "      <th>2</th>\n",
       "      <td>10</td>\n",
       "      <td>5</td>\n",
       "      <td>this is a very healthy dog food good for their...</td>\n",
       "      <td>pos</td>\n",
       "    </tr>\n",
       "    <tr>\n",
       "      <th>3</th>\n",
       "      <td>17</td>\n",
       "      <td>2</td>\n",
       "      <td>i love eating them and they are good for watch...</td>\n",
       "      <td>neg</td>\n",
       "    </tr>\n",
       "    <tr>\n",
       "      <th>4</th>\n",
       "      <td>39</td>\n",
       "      <td>4</td>\n",
       "      <td>i was visiting my friend nate the other mornin...</td>\n",
       "      <td>pos</td>\n",
       "    </tr>\n",
       "  </tbody>\n",
       "</table>\n",
       "</div>"
      ],
      "text/plain": [
       "   Id  Score                                               Text Label\n",
       "0   2      1  product arrived labeled as jumbo salted peanut...   neg\n",
       "1   5      5  great taffy at a great price there was a wide ...   pos\n",
       "2  10      5  this is a very healthy dog food good for their...   pos\n",
       "3  17      2  i love eating them and they are good for watch...   neg\n",
       "4  39      4  i was visiting my friend nate the other mornin...   pos"
      ]
     },
     "execution_count": 16,
     "metadata": {},
     "output_type": "execute_result"
    }
   ],
   "source": [
    "cleaned_reviews = data[:]\n",
    "cleaned_reviews[\"Text\"] = cleaned_reviews[\"Text\"].apply(clean_review)\n",
    "cleaned_reviews.head()"
   ]
  },
  {
   "cell_type": "code",
   "execution_count": 17,
   "id": "71a79589",
   "metadata": {},
   "outputs": [],
   "source": [
    "# reset the index of the dataset rows\n",
    "# https://stackoverflow.com/questions/35528119/pandas-recalculate-index-after-a-concatenation\n",
    "cleaned_reviews = cleaned_reviews.reset_index(drop=True)"
   ]
  },
  {
   "cell_type": "code",
   "execution_count": 18,
   "id": "ddcd5300",
   "metadata": {},
   "outputs": [
    {
     "name": "stdout",
     "output_type": "stream",
     "text": [
      "product arrived labeled as jumbo salted peanuts the peanuts were actually small sized unsalted not sure if this was an error or if the vendor intended to represent the product as jumbo \n",
      "\n",
      "great taffy at a great price there was a wide assortment of yummy taffy delivery was very quick if your a taffy lover this is a deal \n",
      "\n",
      "this is a very healthy dog food good for their digestion also good for small puppies my dog eats her required amount at every feeding \n",
      "\n",
      "i love eating them and they are good for watching tv and looking at movies it is not too sweet i like to transfer them to a zip lock baggie so they stay fresh so i can take my time eating them \n",
      "\n",
      "i was visiting my friend nate the other morning for coffee he came out of his storage room with a packet of mccanns instant irish oatmeal he suggested that i try it for my own use in my stash sometimes nate dose not give you a chance to say no so i ended up trying the apple and cinn found it to be very tastefull when made with water or powdered milk it goes good with o j and coffee and a slice of toast and your ready to take on the world or the day at least jerry reith \n",
      "\n",
      "this wasn't in stock the last time i looked i had to go to the vermont country store in weston to find it along with a jaw harp cranberry horseradish sauce fartless black bean salsa apple cider jelly newton's cradle art in motion and the staple vermont maple syrup back to the ass kickin peanuts they are hot they will activate the perspiration glands behind your ears and under your arms it requires a beverage as advertised a glass of very cold milk and a box of kleenex since it will make your nose run they look like ordinary peanuts which is already giving me ideas for work i suspect that some people have been hitting my goodies in my absence especially my colleague greg i'm going to take this to work at earliest opportunity and empty the contents of this can into an ordinary planters peanuts can and then see whose crying or whose nose is running when i return the can should be shaken to ensure the spices are evenly distributed it is important to wash your hands after consumption and not touch the eyes you'll go nuts over these ass-kickin' peanuts p s i'm not sharing the peanuts not deliberately and i'll probably give greg the jaw harp for christmas he'll be so insulted \n",
      "\n",
      "we roast these in a large cast iron pan on the grill about of the bag at a time the smell is wonderful and the roasted beans taste delicious too more importantly the coffee is smooth no bitter aftertaste on numerous occasions we've had to send the roasted beans home with friends because they like it so much \n",
      "\n",
      "these looked like a perfect snack to through in with my trail mix unfortunately they arrived in a solid mass of melted chocolate i left them in my pantry for a few days and when i opened them at room temperature they were still gooey i through them in the fridge and i've been breaking off hunks ever since they taste good to me but the chocolate is all grainy after melting and then solidifying again i won't order them online again but if i see them in a store i would pick them up \n",
      "\n",
      "these taste really good i have been purchasing a different brand and these are very similar in taste and texture i agree with the other reviewer regarding ordering in the summer there is no insulating packaging with ice packs so they will melt in warm weather like all chocolate food items order in cold weather and buy enough to last \n",
      "\n",
      "great food i love the idea of one food for all ages breeds t's a real convenience as well as a really good product my dogs eat less have almost no gas their poop is regular and a perfect consistency what else can a mom ask for \n",
      "\n",
      "in the s i spent several summers in italy this biscotti is often given as a breakfast food or mid-day snack they are simple and delicious and were not sold in the us back then they are so good that i brought back two bags from a recent trip to italy it is great to see that they may now be found on amazon note it is great to open a bag smell the contents pour a glass of milk then dip the macines in the milk great routine and treat for kids \n",
      "\n",
      "my holistic vet recommended this along with a few other brands we tried them all but my cats prefer this especially the sardine version the best part is their coats are so soft and clean and their eyes are so clear and and i don't want to be rude so i'll say this as delicately as i can their waste is far less odorous than cats who eat the mcdonalds junk found in most stores which is a definite plus for me the health benefits are so obvious - i highly recommend holistic select \n",
      "\n",
      "the best investment i've ever made for ginger it's unbelievable it's fibrous like the real ginger has that spicy kick to it but it's perfect with the sugar - calms it down it's very worth the for lbs of it i'll be getting more soon - i use these as a topper for my ginger cupcakes and cookies \n",
      "\n",
      "perfect size sea salt for the table or the picnic basket we love it shakes well no clumping and flows freely \n",
      "\n",
      "i'm not familiar with the safcol brand but being a tuna addict gave this a shot the tuna tastes like it's good quality but i found the tomato basil flavor to be a bit bland it's better than something plain but it didn't pack the punch i was hoping for it's still a great option for a low calorie low fat meal \n",
      "\n",
      "i found it much tastier than the plain tuna pouches out there excellent quality and no need to 'dress it up' i put it the micro on about power for minute and shazam i believe a little heating brings out the flavor \n",
      "\n",
      "besides being smaller than runts they look the same and have the same consistency unfortunately they taste nothing like banana runts nor do they even taste good yucky stuff trying to return with vendor \n",
      "\n",
      "i drink this tea plain without sugar or milk and it has a pleasant aroma the price from amazon is cheaper than my local grocery store one reviewer is right i think it has some herbal smell to make up the aroma so the label imperial blend kind of implied the herb i am not exactly a black tea drinker so this tea is a surprise and affordable too i usually prefer white chinese tea like white peony but it is more expensive and requires lower temperature water but this is black tea and this aroma kind of remind me the 'softness' of white tea \n",
      "\n",
      "i started drinking the power slim tea when i was on the hcg diet to help curb cravings since i liked it so well i tried some of the others and i am now hooked they are so satisfying that i drink them all the time the energy gives you that extra pick-me-up in the afternoons that helps keep me going all day no matter how long \n",
      "\n",
      "fresh a great way to get a little chocolate in my life without a million calories they taste just like chocolate pudding \n",
      "\n",
      "once you've tried some random sampler packs and now are overloaded with decafs extra bolds or teas this is a great way to get exactly the brands or style that you want received the order in a couple of days and was exactly what i ordered this was my second order and i'll be ordering this item again \n",
      "\n",
      "i am chemical sensitive as well as sugar-free i have been using this product for over a year i use it maybe once a week at the most i drink the bottle and then boost my energy after an hour or two depending on how i feel imo this doesn't replace my a m coffee but is sweet in the early afternoon when i start to fade once in a while i drink a full bottle before a workout i've been drinking guayaki yerba mate teas for years compared to the many toxic energy boosters out there i highly recommend this this product is clean and doesn't leave nasty chems behind in the body try it before you judge from a review - everyone's body reacts differently \n",
      "\n",
      "these nature valley nut lovers variety pack was perfect although i wasn't sure about the peanut butter bar it was excellent i loved the roasted almond roasted pecan and the peanut butter i will definately buy from this seller again quick shipping and very fresh \n",
      "\n",
      "i so wish i would have read this review before purchasing two gallons of this oil for my health issues it reeks like a chemical rubber smell this smell is coming from the black rubber gasket in the lid when i called to report the situation to the company sabrina told me i would have to pay to send them a sample to have tested by a lab unbelievable good customer service would indicate that they would pay for the product to be returned and give me a full refund including shipping the product is faulty period i will never order anything from this company again and do not recommend it to anyone based on this horrible customer service and lack of responsibility and ownership \n",
      "\n",
      "had this shipped to my sister who follows a gluten-free eating plan and she reports that it is very versatile and easier than grinding almonds for a crispy crust on chicken and fish filets also uses it in place of bread crumbs in meatloaf and meatballs stays moist when added in place of wheat flour in baking too good product good value \n",
      "\n",
      "i have tried other energy shots and this one is the only one that really makes me feel good and energized without any other sides effects at all its also the best taste others taste like medicine this one has a tea fresh taste i love it \n",
      "\n",
      "you have to try the vanilla tootsie rolls the regular chocolate ones are good but these are the best ever \n",
      "\n",
      "service was great but i meant to buy swiss chalet chicken sauce not the marinade love the sauce - have yet to try the marinade\n",
      "\n",
      "i received the items in a timely manner upon receipt i removed a pack to consume the pop-tart was stale and left an awful taste in my mouth \n",
      "\n",
      "this is honestly the best seasoning salt in all the land it tightens up any dish not spicy just perfectly seasoned it's perfect hence my purchase of this oz mamma jamma \n",
      "\n",
      "i like a lot of sesame oil and use it in salads regularly great quality flavor and aroma can't beat that its organic \n",
      "\n",
      "popchips are so good i have been following weight watchers and lost pounds and am at my goal these popchips are my salty crunchy indulgence they taste so good \n",
      "\n",
      "i hadn't tried or heard of till recently weavers not it's my favorite i am running through the list of types they have looking for a favorite and haven't found one yet they're all so darned smooth no bite no after taste a little pricy but still worth it no worse price wise than starbucks or peets will keep running through the list here and see what happens love them all so far \n",
      "\n",
      "this is just fantastic chicken noodle soup the best i have ever eaten with large hearty chunks of chicken and vegetables and nice large noodles this soup is just so full bodied and is seasoned just right i am so glad amazon carries this product i just can't find it here in vermont \n",
      "\n",
      "this is ridiculous the best gourmet ketchup i have ever tasted it is pricey but wow love this stuff it would make a great gift for someone who is hard to buy for but loves their ketchup yummy \n",
      "\n",
      "i haven't used the ham base it is loaded with msg i did not realize this when i ordered it and can not return it because it is a food item\n",
      "\n",
      "perfect they are my favorite because i can season with a variety of spices to exactly suit my tastes without all the salt \n",
      "\n",
      "this is a real good product i love these chips and so does my customers can't go wrong wit these the best\n",
      "\n",
      "i love these chips and now the whole family is hooked on them these are the only chips i eat\n",
      "\n",
      "i don't know what to say that others have not covered if you like potato chips you will like these get em on sale when you can and limit your intake if you can \n",
      "\n",
      "if you're looking at this you probably already know you like these chips this is a great deal and i have not had any problems with them going stale the oz bags are a great size for a snack and help avoid over-eating \n",
      "\n",
      "my yo is a kettle chip addict so i was so happy to find snack size bags for his lunch great quality and much cheaper than in the stores will definitely be buying more \n",
      "\n",
      "this may sound rediculous but i actually ordered the wrong brand of potato chips when i ordered these kettle-brand jalapeno chips at the time i placed my order i couldn't remember the name of the jalapeno chips that i had recently discovered and liked and the kettle-brand chips were packaged in a similarly-colored bag but it all worked out for the best because i do really like the kettle-brand of jalapeno chips and will happily munch away on them during upcoming tv football games when i run out probably sometime next year i will likey purchase miss vicky brand of jalapeno chips and i plan to try the other flavors of kettle-brand chips imho kettle-brand chips are excellent and i recommend them to all potato chip 'affection-ados' sincerely homiedog \n",
      "\n",
      "so i got this and tasted it strait out of the bottle it tasted like smoky flavored milk - yuck i was depressed i was stuck with bottles of this it sat on my shelf and i forgot about it last weekend i tasted a zevia cream soda and was not pleased with the flavor it tasted weird and smokey like the lorann oil i had gotten i tried to doctor up the soda with a little sf vanilla torani syrup and a tablespoon of heavy cream - it tasted amazing the odd smokiness was gone and it had a wonderful rich mouthfeel so i wanted to see if this would help the lorann oil too i put a cup of whipping cream in a bowl and added a teaspoon of vanilla and tasted it it tasted fine then i added one drop of the oil it is very strong and stirred it in - it tasted so much better i whipped it up and put it on fruit and it was such a treat now i will always whip a drop of it with vanilla into desserts and whip cream it was such a happy accident to find out how to use it when added to vanilla it really adds a new depth of flavor and tastes so different than just out of the bottle or on its own in cream it is very potent so only use a drop and increase after tasting if you add too much it will ruin the recipe so use a light touch \n",
      "\n",
      "i used to buy the wholesome sweetners agave and like it a little better but switched because it became too expensive so this is the cheeper option the taste is the same but it seems a little less sweet because i find i have to use more of it to get the right sweetness in my coffee i don't like the container it doesn't pour well so i have to pour it into a better squeeze bottle so that i don't have a sticky mess on my counter every day it's fine for the price i continue to have it shipped to me every other month \n",
      "\n",
      "so surprised to find the taiwan-shaped pineapple cakes they are so cute i've never found any pineapple cake like this at our local asian supermarkets so i ordered some from here these lovely pastries made our dragon boat festival party much more fun my friends and i think it is a good idea to order them again for our mid-autumn festival party \n",
      "\n",
      "if you enjoy the flavor of soy you will really like this plus its hand made in the good ole usa \n",
      "\n",
      "i recently acquired a bottle of this and was immediately impressed it has good flavor without all the excessive saltiness of supermarket brands i've used it for marinades and dipping sauces in addition to straight use and in all cases it has added a little something extra quite a surprise to find an american made soy sauce that tastes this good \n",
      "\n",
      "this soy sauce is the best we have ever had thanks to amazon we were able to find it again it makes a big difference when using this product thanks again\n",
      "\n",
      "i'm pleased with these- wasn't sure how they'd be able to replicate the autumn classic flavors of caramel apples but figured werther's was a good bet i'm diabetic so wolfing down a real caramel apple when the mood strikes just can't happen as often as i'd like to do so but these are tasty enough to get me through until i can 'carb budget' the real thing these are made with sugar alcohols so it's wise to limit how many are eaten in a day unless you're going to be near home and have turbo-flush on your toilet tmi this pack of will last a while but they're definitely a 'will reorder' \n",
      "\n",
      "this item werther's sugar free hard candy if consumed will give you - or your friends loose bowels i purchased bags and discovered more than a bowel problem you can't return them need a laxative i have ten unopened bags you can have - for free \n",
      "\n",
      "i think these are my favorite cookies ever really light and creamy too bad you can no longer find them anywhere for less than two-hundred count i don't think i need that many \n",
      "\n",
      "the laddoos turned bad in a few days after we received it no other item inside our fridge turned bad \n",
      "\n",
      "we are chocolate moose mickey moose our nice owner bought this great food for us we love it very much i have gained lbs because i eat all of mickey's food when he isn't looking our skin and fur is much better now too \n",
      "\n",
      "my year old cocker spaniel loves this food and it's good for him -- he needs to lose a few pounds and this is doing the trick glad i found it on amazon hard to find elsewhere \n",
      "\n",
      " numi organic tea chinese breakfast yunnan black tea loose leaf oz bag pack of i brew iced tea in the refrigerator by the half-gallon with this tea excellent the resealable bags work well and unopened they protect my large stash making it easier to manage my subscription \n",
      "\n",
      "i think the pocky did not get stored rightly the chocolate was falling off from the biscuit stick and doesn't taste as it should many of them stick together and whenever i want to split them up it just becomes very messy now i need to clean up my desk every time after i have it \n",
      "\n",
      "everyone loves pocky and if they say they don't they are lying lol the pocky arrived in good condition with minimal melting and very few broken pieces \n",
      "\n",
      "my daughter was not a big fan of baby food especially any with proteins but she did love this one the flavor is just right not too sweet or too savory and doesn't have a strong chicken flavor almost like plain sweet potatoes but not as sharp thus it's a very good first protein to offer and good for picky eaters my nephews and my niece also liked this flavor so it's a pretty safe bet to keep on hand if you don't know a particular baby's preferences something i wish i had known was that it is quite a bit runnier than other stage earth's best especially for having chicken i added quite a bit of rice cereal to thicken it up after my daughter had gotten tired of the runny texture and she liked that just fine but it is an extra step however the runnier texture makes it workable for younger babies or those with gagging texture problems \n",
      "\n",
      "this is the only food my daughter will eat consistly she really enjoys it the packaging is great never had any broken having ordered times \n",
      "\n",
      "my son loves the rice and lentil jars it's not as liquid in consistency as the peas and brown rice jars i have it on order with subscribe and save amazon mom and it always arrives nicely packaged \n",
      "\n",
      "i first tasted sassafras tea in a local restaurant and really liked it so i started looking in grocery stores and online for it in a teabag form after several weeks of investigation i called the restaurant and asked what they used to make the tea i was told is was pappy's sassafras concentrate i looked online and found it at amazon com as i was ordering it i also saw the sassafras teabags i thought i'd order a box to try i was very dissapointed it didn't taste like the flat rootbeer i was expecting it was more like black licorice which i hate with a very mild rootbeer undertone it also didn't have the distinctive red color that you get by steeping the sassafras root i've never had real sassafras tea made with the root so i don't know if the teabags are more like the real thing or not bottom line i won't buy the teabags again \n",
      "\n",
      "i love panang curry but would rather avoid the white rice that most restaurants serve with it so decided to try making my own and with this product i get exactly what i want hot tasty panang curry adding lots of fresh veggies tofu and brown rice and it's very hot didn't have to add any spices at all great product will purchase again \n",
      "\n",
      "coffee beans did not seem fresh no oil on them what so ever i have tasted much better and fresher will not order again \n",
      "\n",
      "we love these sugar cubes in the office they aren't your grandmother's sugar cube they have a rugged appearance can sugar cubes be considered rugged and we combine them with the white sugar cubes from la perruche \n",
      "\n",
      "love this for espressos the raw sugar cube is not as sweet as the refined sugars and more rich in flavor \n",
      "\n",
      "if you love garlic i recommend this flavored oil it is true to its name i was not expecting it to be so strong so if i use it for cooking or dipping bread i will mix it with some unflavored olive oil in the future \n",
      "\n",
      "a friend's favorite candy is after eight but they are not available anywhere in my area i couldn't find them on-line either amazon com came through these are imported from england and the most delicious peppermint these are so thin with a smooth mint cream center and a dark chocolate shell if you just want a little taste of mint this is for you really special with a cup of hot coffee \n",
      "\n",
      "my partner is very happy with the tea and is feeling much better since starting to drink it she has been drinking it both hot normal and iced chilled and likes the refreshing nature of it \n",
      "\n",
      "these are some of my favorite chips on the planet they are light crisp not too greasy the flavor is very dilly love that great chips just hard to find \n",
      "\n",
      "this salsa was delicious it was very spicy as i'm sure you've guessed but was also pretty dang tasty it was a bit sweeter than i prefer my salsa and given the price i don't think it is something i would eat with any frequency but definately worth the novelty and if sweet and spicy salsas are your thing you just might end up loving it \n",
      "\n",
      "there are kittens that started hanging outside the house and i started feeding them rather than buying the smaller bags this is a great value for multiple cats the kittens love the food and always look forward to eating it shipped right to your door can't go wrong with that \n",
      "\n",
      "i purchase pound bags of lives daily essentials a month for my daughter's cats they love it she says they often gather around the carton and wait for her to open it they know what's in there and can't wait for it to be opened if the cats love it we love it isn't that how it goes \n",
      "\n",
      "my cats love this food for the money it is a great product i get it every month the cats love the flavor \n",
      "\n",
      "i have feral cats that i trapped neutered spayed and released they still hang around our property so of course we feed them they really like lives and i believe it is good for them being old and my husband handicapped it is so easy for us to have it delivered right to our door step instead of wrestling with the bags at the store and unloading when we get home i am very satisfied with the product and amazon the subscribe and save option is even better as i don't have to remember to order it \n",
      "\n",
      "my two cats love this cat food more than the kirkland signature brand it's also very cheap and affordable cat food at walmart i would recommend this cat food over meow mix or friskies any day get lives dry cat food it's one of the better brands out there \n",
      "\n",
      "my cat will not eat this food i don't know why but it was a waste of money i was looking for something cheap so i guess you get what you pay for \n",
      "\n",
      "raw organic fair trade tastes great what's not to love my hope is that as more people buy their amazing chocolates that the price will come down a bit \n",
      "\n",
      "expensive but worth it and ive tried every iced tea out there lipton is pretty good too but this is the best tetleys sux and many other iced teas like bigelow are terrible but this is great like the coffee shop\n",
      "\n",
      "since being gluten free i've tried all types of gf breads and they are all very expensive who knew that the brazilians had the bread game on lock with this inexpensive tapioca version of cheese bread it's custom which is probably why they are all so skinny lol but i loved it and will be ordering a whole lot more \n",
      "\n",
      "these potatoes are pretty good they can be eaten alone or served with a meal really like potatoes and this is an easy choice \n",
      "\n",
      "i love the taste of real garlic - not the granulated or brined stuff these are great flavoring agents especially for popcorn as a liquid in glazes and rubs love the choice between roasted and raw and a little goes a long way i first bought this product years ago despite using one or the other at least once a week i am only now needing to replace them yum \n",
      "\n",
      "anytime i have started to get even the slightest sore throat i drink this and the next morning it's gone i always bought it at world market but they said it has been discontinued but thank god for amazon \n",
      "\n",
      "great product wish they were still available in bars pubs and stores have given cans to several of my golf buddies and they agree with me i'm just glad they are still available on line \n",
      "\n",
      "raw cacao powder differs greatly in taste than processed cacao powder commercial cacao powder is often triple fermented and then roasted commercial companies are more interested in a product which has no nutritional value but great consistency in flavor commercial cacao powder is mono tonal in flavor raw cacao is everything that commercial cacao isn't it is a antioxidant super-food which has no equal the taste does vary slightly from one part of the year to the next as to taste it has a wonderful intoxicating tannin like aroma with mild overtones of mahogany in foods it has a complexity which some cooks will absolutely love while the others who read from the book may want to go back to there standard one dimensional cacao in baking i believe it goes well with other flavors such as almond extract if you want to do an extraordinary butter cream icing with a tad of almond extract your icing will have no equal in chocolate cake i personally would go heavy and do a buttermilk or sour cream cake the acid helps to unify and amplify flavors i like making cake with cake flour which is about has about wheat gluten and rice flour the reason for this should be obvious the heavy texture that rice flour imparts makes your cake stand proud and one bite is then never more than enough raw cocoa powder is rich in polyphenols such as catechins and procyanidins and has been shown to inhibit low-density lipoprotein ldl oxidation and atherogenesis in a variety of models human studies have also shown daily intake of cocoa increases plasma high-density lipoprotein hdl and decreases ldl levels although the drug companies having endeavored to understand the mechanism in which this happens \n",
      "\n",
      "love this dont use too much because it is strong but it tastes great makes even mediocre salmon taste great \n",
      "\n",
      "if you like jasmine tea this is a great tea its lite not overly medicine tasting like jasmine tea can be its also fun to watch the tea leaves unfurl i steep it so many times that until i lost count haha just great \n",
      "\n",
      "i hated stevia and it's licorice taste until i tried nustevia since that day i have almost completely eliminated sugar in my drinks i like that it is a plant based product and not bio-engineered no after-taste and you need very little to make anything taste sweet \n",
      "\n",
      "i don't like using artificial sweeteners because of the chemicals and because they don't taste good i am a caregiver for my diabetic dad and once i discovered this product i was hooked except that it is hard to find where i live when i found it at amazon i put it on auto ship so i don't run out the price has gone up a lot since i first found it on amazon however it still costs more in stores if and when i can find it there i make limeade with this which i keep on hand at all times in a gallon container of water i add cup of lime juice and tbsp of stevia powder it is refreshing and almost no calories and no chemical aftertaste my dad uses the stevia in his coffee and his oatmeal i haven't tried cooking with it although i know they make one designed for baking which i'll possibly try this winter \n",
      "\n",
      "i bought the nunaturals white stevia with maltodextrin several months ago as i'm trying to cut back on sugar and artificial sweeteners the first morning i tried it in my coffee and hated it it tastes just as bitter as equal or sweet n low i decided to give it another try that same day in my lemonade and it was absolutely delicious i've also tried it in hot tea and it is bitter but wonderful in iced tea so i think hot drinks bring out the bitterness in stevia all in all i'm glad i bought this and also a box of the packets which are very convenient on the go i have tried many different brands of stevia but so far this is the only one i have not thrown out i also tried truvia not a fan it makes your coffee or tea taste like licorice \n",
      "\n",
      "if you are trying to get off sugar this is the product for you i has a great sweet taste without spiking your insulin and no bitter aftertaste great for diabetics and anyone trying to eat healthy i love this product \n",
      "\n",
      "i have tried various brands of stevia but i always come back to nunaturals i buy the ounce container because i use it to sweeten everything if you have a sweet tooth as i do but don't need the added pounds then this is the ticket for you i drink a lot of tea and this is my sweetener a lot of other stevia brands leave a bitter after taste but this is the best that i have found to resolve that problem highly recommended \n",
      "\n",
      "if you need to cut down on sugar this is the way to go i love stevia in my iced tea and it's great on your cereal also great stuff \n",
      "\n",
      "i started using nustevia several years ago back then i had to purchase it from a health food store thanks to amazon i can now order and have it within a few days i never run out as for the product it's the best i've tried several stevia products but they have an after taste not with nustevia please try if you haven't \n",
      "\n",
      "if u have not tried this u r missing the best thing u could cook for your family i give this stars \n",
      "\n",
      "i found this product doing a search for edible gold leaf i decided to purchase after reading rave reviews about food items that were created using it however it is clearly marked not to be consumed and for decorative use only so this is a misleading product \n",
      "\n",
      "there are many workdays when i only have a few minutes for lunch or all too often dinner on these days dr mcdougall's products are lifesavers i keep some fresh washed veggies in my office fridge and can have a great meal ready in minutes just microwave this one for instance while cutting up some broccoli peppers a carrot and whatever else i have around i also added half of a slim yellow squash the other day cut in little twigs - delicous by the time you're through cutting you'll have finished with cooking the soup and the soup's standing time will be almost over it needs a few minutes to thicken up take a tablespoon of the broth and a tablespoon of water add the veggies and the liquid to a big bowl toss the veggies in the liquid and microwave for about minute seconds when through dump the soup and noodles on top and you have a delicious healthy meal the men in my office come sniffing around when the aroma of the soup comes out of the microwave -- several are now also fans despite being initially worried by the fact that the meal is vegan when i am organized enough to remember to wash and bring it in i add a spring onion on top i just use an office scissors to cut it if you can afford the calories a few drops of toasted sesame oil is a nice addition as well as is tamari yummy \n",
      "\n",
      "these rolling papers are great they taste amazing and they burn slow and also prevent tar from running down the paper\n",
      "\n",
      "this product is very good it goes a long way but quite as good as the one at dd good product not the less \n",
      "\n",
      "i have purchased locally many other flavors of da vinci syrups and ordered blueberry online to try it because it isnt available locally- and i love blueberry well this was a disappointment to me- very very sugary sweet with little blueberry flavor not to mention i paid x what i would pay locally very disappointed\n",
      "\n"
     ]
    }
   ],
   "source": [
    "for i in range(100):\n",
    "    print(cleaned_reviews[\"Text\"][i])\n",
    "    print()"
   ]
  },
  {
   "cell_type": "markdown",
   "id": "e7f93a0a",
   "metadata": {},
   "source": [
    "To clean the reviews all unwanted characters and html tags must be removed from the reviews. This is done via the function clean_reviews() above that cleans out html tags, weird characters and converts all words to lower case. The above cell shows the results of cleaning the reviews."
   ]
  },
  {
   "cell_type": "markdown",
   "id": "45f823be",
   "metadata": {},
   "source": [
    "# Task 3 - Logistic Regression Model\n",
    "Build a logistic regression text classifier to categorise whether review has positive or negative\n",
    "sentiment. 70% of the reviews should be used for training and the remaining 30% for the\n",
    "testing. List the steps taken in your own words to build the model in less than 4 lines."
   ]
  },
  {
   "cell_type": "code",
   "execution_count": 19,
   "id": "faf18d42",
   "metadata": {},
   "outputs": [],
   "source": [
    "# define number of training and test samples\n",
    "total_rows = len(cleaned_reviews.index)\n",
    "training_perc = 0.7\n",
    "test_perc = 1 - training_perc\n",
    "\n",
    "training_samples= int(total_rows * training_perc)\n",
    "test_samples = int(total_rows * test_perc)"
   ]
  },
  {
   "cell_type": "code",
   "execution_count": 20,
   "id": "06016b25",
   "metadata": {},
   "outputs": [
    {
     "name": "stdout",
     "output_type": "stream",
     "text": [
      "229      pos\n",
      "27187    pos\n",
      "5961     neg\n",
      "24490    neg\n",
      "12831    pos\n",
      "        ... \n",
      "13123    pos\n",
      "19648    pos\n",
      "9845     pos\n",
      "10799    pos\n",
      "2732     neg\n",
      "Name: Label, Length: 19637, dtype: object\n"
     ]
    }
   ],
   "source": [
    "# https://www.statology.org/pandas-train-test/\n",
    "\n",
    "from sklearn.model_selection import train_test_split\n",
    "import numpy as np\n",
    "\n",
    "random_state = np.random.RandomState(0)\n",
    "\n",
    "X = cleaned_reviews['Text']\n",
    "Y = cleaned_reviews['Label']\n",
    "\n",
    "X_train, X_test, Y_train, Y_test = train_test_split(X, Y, test_size=0.3, random_state=random_state)\n",
    "\n",
    "print(Y_train)"
   ]
  },
  {
   "cell_type": "code",
   "execution_count": 21,
   "id": "c746482e",
   "metadata": {},
   "outputs": [
    {
     "name": "stdout",
     "output_type": "stream",
     "text": [
      "Defaulting to user installation because normal site-packages is not writeable\n",
      "Requirement already satisfied: nltk in /home/s4674720/.local/lib/python3.9/site-packages (3.7)\n",
      "Requirement already satisfied: click in /usr/local/lib/python3.9/dist-packages (from nltk) (8.1.3)\n",
      "Requirement already satisfied: regex>=2021.8.3 in /usr/local/lib/python3.9/dist-packages (from nltk) (2022.7.9)\n",
      "Requirement already satisfied: tqdm in /home/s4674720/.local/lib/python3.9/site-packages (from nltk) (4.64.1)\n",
      "Requirement already satisfied: joblib in /usr/local/lib/python3.9/dist-packages (from nltk) (1.1.0)\n",
      "--- Logging error ---\n",
      "Traceback (most recent call last):\n",
      "  File \"/usr/local/lib/python3.9/dist-packages/pip/_internal/utils/logging.py\", line 177, in emit\n",
      "    self.console.print(renderable, overflow=\"ignore\", crop=False, style=style)\n",
      "  File \"/usr/local/lib/python3.9/dist-packages/pip/_vendor/rich/console.py\", line 1752, in print\n",
      "    extend(render(renderable, render_options))\n",
      "  File \"/usr/local/lib/python3.9/dist-packages/pip/_vendor/rich/console.py\", line 1390, in render\n",
      "    for render_output in iter_render:\n",
      "  File \"/usr/local/lib/python3.9/dist-packages/pip/_internal/utils/logging.py\", line 134, in __rich_console__\n",
      "    for line in lines:\n",
      "  File \"/usr/local/lib/python3.9/dist-packages/pip/_vendor/rich/segment.py\", line 245, in split_lines\n",
      "    for segment in segments:\n",
      "  File \"/usr/local/lib/python3.9/dist-packages/pip/_vendor/rich/console.py\", line 1368, in render\n",
      "    renderable = rich_cast(renderable)\n",
      "  File \"/usr/local/lib/python3.9/dist-packages/pip/_vendor/rich/protocol.py\", line 36, in rich_cast\n",
      "    renderable = cast_method()\n",
      "  File \"/usr/local/lib/python3.9/dist-packages/pip/_internal/self_outdated_check.py\", line 130, in __rich__\n",
      "    pip_cmd = get_best_invocation_for_this_pip()\n",
      "  File \"/usr/local/lib/python3.9/dist-packages/pip/_internal/utils/entrypoints.py\", line 58, in get_best_invocation_for_this_pip\n",
      "    if found_executable and os.path.samefile(\n",
      "  File \"/usr/lib/python3.9/genericpath.py\", line 101, in samefile\n",
      "    s2 = os.stat(f2)\n",
      "FileNotFoundError: [Errno 2] No such file or directory: '/usr/bin/pip'\n",
      "Call stack:\n",
      "  File \"/usr/local/bin/pip\", line 8, in <module>\n",
      "    sys.exit(main())\n",
      "  File \"/usr/local/lib/python3.9/dist-packages/pip/_internal/cli/main.py\", line 70, in main\n",
      "    return command.main(cmd_args)\n",
      "  File \"/usr/local/lib/python3.9/dist-packages/pip/_internal/cli/base_command.py\", line 101, in main\n",
      "    return self._main(args)\n",
      "  File \"/usr/local/lib/python3.9/dist-packages/pip/_internal/cli/base_command.py\", line 223, in _main\n",
      "    self.handle_pip_version_check(options)\n",
      "  File \"/usr/local/lib/python3.9/dist-packages/pip/_internal/cli/req_command.py\", line 148, in handle_pip_version_check\n",
      "    pip_self_version_check(session, options)\n",
      "  File \"/usr/local/lib/python3.9/dist-packages/pip/_internal/self_outdated_check.py\", line 237, in pip_self_version_check\n",
      "    logger.info(\"[present-rich] %s\", upgrade_prompt)\n",
      "  File \"/usr/lib/python3.9/logging/__init__.py\", line 1446, in info\n",
      "    self._log(INFO, msg, args, **kwargs)\n",
      "  File \"/usr/lib/python3.9/logging/__init__.py\", line 1589, in _log\n",
      "    self.handle(record)\n",
      "  File \"/usr/lib/python3.9/logging/__init__.py\", line 1599, in handle\n",
      "    self.callHandlers(record)\n",
      "  File \"/usr/lib/python3.9/logging/__init__.py\", line 1661, in callHandlers\n",
      "    hdlr.handle(record)\n",
      "  File \"/usr/lib/python3.9/logging/__init__.py\", line 952, in handle\n",
      "    self.emit(record)\n",
      "  File \"/usr/local/lib/python3.9/dist-packages/pip/_internal/utils/logging.py\", line 179, in emit\n",
      "    self.handleError(record)\n",
      "Message: '[present-rich] %s'\n",
      "Arguments: (UpgradePrompt(old='22.1.2', new='22.2.2'),)\n"
     ]
    },
    {
     "name": "stderr",
     "output_type": "stream",
     "text": [
      "[nltk_data] Downloading package stopwords to\n",
      "[nltk_data]     /home/s4674720/nltk_data...\n",
      "[nltk_data]   Package stopwords is already up-to-date!\n"
     ]
    }
   ],
   "source": [
    "from sklearn.feature_extraction.text import CountVectorizer\n",
    "!pip install nltk\n",
    "import nltk\n",
    "nltk.download('stopwords')\n",
    "from nltk.corpus import stopwords"
   ]
  },
  {
   "cell_type": "code",
   "execution_count": 22,
   "id": "f0bfa561",
   "metadata": {},
   "outputs": [],
   "source": [
    "# define stop words and also add custom stop words such as\n",
    "stop_words = stopwords.words('english')\n",
    "stop_words.extend(['product'])"
   ]
  },
  {
   "cell_type": "code",
   "execution_count": 23,
   "id": "aa75b498",
   "metadata": {},
   "outputs": [],
   "source": [
    "# define CountVectorizer object\n",
    "# min_df=0.01 means words that belong to only 1% of the all reviews will be excluded in the BOW\n",
    "vectorizer = CountVectorizer(stop_words=stop_words, min_df=0.01)\n",
    "\n",
    "# fit the vectorizer object to train data\n",
    "vectorizer.fit(X_train)\n",
    "\n",
    "# get the BOW for train data\n",
    "X_train_BOW = vectorizer.transform(X_train)"
   ]
  },
  {
   "cell_type": "code",
   "execution_count": 24,
   "id": "7bf9fd1e",
   "metadata": {},
   "outputs": [
    {
     "data": {
      "text/html": [
       "<div>\n",
       "<style scoped>\n",
       "    .dataframe tbody tr th:only-of-type {\n",
       "        vertical-align: middle;\n",
       "    }\n",
       "\n",
       "    .dataframe tbody tr th {\n",
       "        vertical-align: top;\n",
       "    }\n",
       "\n",
       "    .dataframe thead th {\n",
       "        text-align: right;\n",
       "    }\n",
       "</style>\n",
       "<table border=\"1\" class=\"dataframe\">\n",
       "  <thead>\n",
       "    <tr style=\"text-align: right;\">\n",
       "      <th></th>\n",
       "      <th>0</th>\n",
       "      <th>1</th>\n",
       "      <th>2</th>\n",
       "      <th>3</th>\n",
       "      <th>4</th>\n",
       "      <th>5</th>\n",
       "      <th>6</th>\n",
       "      <th>7</th>\n",
       "      <th>8</th>\n",
       "      <th>9</th>\n",
       "      <th>...</th>\n",
       "      <th>19627</th>\n",
       "      <th>19628</th>\n",
       "      <th>19629</th>\n",
       "      <th>19630</th>\n",
       "      <th>19631</th>\n",
       "      <th>19632</th>\n",
       "      <th>19633</th>\n",
       "      <th>19634</th>\n",
       "      <th>19635</th>\n",
       "      <th>19636</th>\n",
       "    </tr>\n",
       "  </thead>\n",
       "  <tbody>\n",
       "    <tr>\n",
       "      <th>able</th>\n",
       "      <td>0</td>\n",
       "      <td>0</td>\n",
       "      <td>0</td>\n",
       "      <td>0</td>\n",
       "      <td>0</td>\n",
       "      <td>0</td>\n",
       "      <td>0</td>\n",
       "      <td>0</td>\n",
       "      <td>0</td>\n",
       "      <td>0</td>\n",
       "      <td>...</td>\n",
       "      <td>0</td>\n",
       "      <td>0</td>\n",
       "      <td>0</td>\n",
       "      <td>1</td>\n",
       "      <td>0</td>\n",
       "      <td>1</td>\n",
       "      <td>0</td>\n",
       "      <td>0</td>\n",
       "      <td>0</td>\n",
       "      <td>0</td>\n",
       "    </tr>\n",
       "    <tr>\n",
       "      <th>absolutely</th>\n",
       "      <td>0</td>\n",
       "      <td>0</td>\n",
       "      <td>0</td>\n",
       "      <td>0</td>\n",
       "      <td>0</td>\n",
       "      <td>0</td>\n",
       "      <td>0</td>\n",
       "      <td>0</td>\n",
       "      <td>0</td>\n",
       "      <td>0</td>\n",
       "      <td>...</td>\n",
       "      <td>0</td>\n",
       "      <td>0</td>\n",
       "      <td>3</td>\n",
       "      <td>0</td>\n",
       "      <td>0</td>\n",
       "      <td>0</td>\n",
       "      <td>0</td>\n",
       "      <td>0</td>\n",
       "      <td>0</td>\n",
       "      <td>0</td>\n",
       "    </tr>\n",
       "    <tr>\n",
       "      <th>actually</th>\n",
       "      <td>0</td>\n",
       "      <td>0</td>\n",
       "      <td>0</td>\n",
       "      <td>0</td>\n",
       "      <td>0</td>\n",
       "      <td>0</td>\n",
       "      <td>0</td>\n",
       "      <td>1</td>\n",
       "      <td>0</td>\n",
       "      <td>0</td>\n",
       "      <td>...</td>\n",
       "      <td>0</td>\n",
       "      <td>0</td>\n",
       "      <td>0</td>\n",
       "      <td>0</td>\n",
       "      <td>0</td>\n",
       "      <td>1</td>\n",
       "      <td>0</td>\n",
       "      <td>0</td>\n",
       "      <td>0</td>\n",
       "      <td>0</td>\n",
       "    </tr>\n",
       "    <tr>\n",
       "      <th>add</th>\n",
       "      <td>0</td>\n",
       "      <td>0</td>\n",
       "      <td>0</td>\n",
       "      <td>0</td>\n",
       "      <td>0</td>\n",
       "      <td>0</td>\n",
       "      <td>0</td>\n",
       "      <td>0</td>\n",
       "      <td>0</td>\n",
       "      <td>1</td>\n",
       "      <td>...</td>\n",
       "      <td>0</td>\n",
       "      <td>0</td>\n",
       "      <td>0</td>\n",
       "      <td>0</td>\n",
       "      <td>0</td>\n",
       "      <td>0</td>\n",
       "      <td>0</td>\n",
       "      <td>1</td>\n",
       "      <td>0</td>\n",
       "      <td>0</td>\n",
       "    </tr>\n",
       "    <tr>\n",
       "      <th>added</th>\n",
       "      <td>0</td>\n",
       "      <td>0</td>\n",
       "      <td>0</td>\n",
       "      <td>0</td>\n",
       "      <td>0</td>\n",
       "      <td>0</td>\n",
       "      <td>0</td>\n",
       "      <td>0</td>\n",
       "      <td>0</td>\n",
       "      <td>0</td>\n",
       "      <td>...</td>\n",
       "      <td>0</td>\n",
       "      <td>0</td>\n",
       "      <td>0</td>\n",
       "      <td>0</td>\n",
       "      <td>0</td>\n",
       "      <td>0</td>\n",
       "      <td>0</td>\n",
       "      <td>0</td>\n",
       "      <td>0</td>\n",
       "      <td>0</td>\n",
       "    </tr>\n",
       "  </tbody>\n",
       "</table>\n",
       "<p>5 rows × 19637 columns</p>\n",
       "</div>"
      ],
      "text/plain": [
       "            0      1      2      3      4      5      6      7      8      \\\n",
       "able            0      0      0      0      0      0      0      0      0   \n",
       "absolutely      0      0      0      0      0      0      0      0      0   \n",
       "actually        0      0      0      0      0      0      0      1      0   \n",
       "add             0      0      0      0      0      0      0      0      0   \n",
       "added           0      0      0      0      0      0      0      0      0   \n",
       "\n",
       "            9      ...  19627  19628  19629  19630  19631  19632  19633  \\\n",
       "able            0  ...      0      0      0      1      0      1      0   \n",
       "absolutely      0  ...      0      0      3      0      0      0      0   \n",
       "actually        0  ...      0      0      0      0      0      1      0   \n",
       "add             1  ...      0      0      0      0      0      0      0   \n",
       "added           0  ...      0      0      0      0      0      0      0   \n",
       "\n",
       "            19634  19635  19636  \n",
       "able            0      0      0  \n",
       "absolutely      0      0      0  \n",
       "actually        0      0      0  \n",
       "add             1      0      0  \n",
       "added           0      0      0  \n",
       "\n",
       "[5 rows x 19637 columns]"
      ]
     },
     "execution_count": 24,
     "metadata": {},
     "output_type": "execute_result"
    }
   ],
   "source": [
    "# visualize BOW\n",
    "training_data_BOW = pd.DataFrame(data=X_train_BOW.toarray(), columns=vectorizer.get_feature_names_out()).T\n",
    "\n",
    "# display the last few rows of the dataframe\n",
    "training_data_BOW.head(5)"
   ]
  },
  {
   "cell_type": "code",
   "execution_count": 25,
   "id": "4699531b",
   "metadata": {},
   "outputs": [
    {
     "data": {
      "text/html": [
       "<style>#sk-container-id-1 {color: black;background-color: white;}#sk-container-id-1 pre{padding: 0;}#sk-container-id-1 div.sk-toggleable {background-color: white;}#sk-container-id-1 label.sk-toggleable__label {cursor: pointer;display: block;width: 100%;margin-bottom: 0;padding: 0.3em;box-sizing: border-box;text-align: center;}#sk-container-id-1 label.sk-toggleable__label-arrow:before {content: \"▸\";float: left;margin-right: 0.25em;color: #696969;}#sk-container-id-1 label.sk-toggleable__label-arrow:hover:before {color: black;}#sk-container-id-1 div.sk-estimator:hover label.sk-toggleable__label-arrow:before {color: black;}#sk-container-id-1 div.sk-toggleable__content {max-height: 0;max-width: 0;overflow: hidden;text-align: left;background-color: #f0f8ff;}#sk-container-id-1 div.sk-toggleable__content pre {margin: 0.2em;color: black;border-radius: 0.25em;background-color: #f0f8ff;}#sk-container-id-1 input.sk-toggleable__control:checked~div.sk-toggleable__content {max-height: 200px;max-width: 100%;overflow: auto;}#sk-container-id-1 input.sk-toggleable__control:checked~label.sk-toggleable__label-arrow:before {content: \"▾\";}#sk-container-id-1 div.sk-estimator input.sk-toggleable__control:checked~label.sk-toggleable__label {background-color: #d4ebff;}#sk-container-id-1 div.sk-label input.sk-toggleable__control:checked~label.sk-toggleable__label {background-color: #d4ebff;}#sk-container-id-1 input.sk-hidden--visually {border: 0;clip: rect(1px 1px 1px 1px);clip: rect(1px, 1px, 1px, 1px);height: 1px;margin: -1px;overflow: hidden;padding: 0;position: absolute;width: 1px;}#sk-container-id-1 div.sk-estimator {font-family: monospace;background-color: #f0f8ff;border: 1px dotted black;border-radius: 0.25em;box-sizing: border-box;margin-bottom: 0.5em;}#sk-container-id-1 div.sk-estimator:hover {background-color: #d4ebff;}#sk-container-id-1 div.sk-parallel-item::after {content: \"\";width: 100%;border-bottom: 1px solid gray;flex-grow: 1;}#sk-container-id-1 div.sk-label:hover label.sk-toggleable__label {background-color: #d4ebff;}#sk-container-id-1 div.sk-serial::before {content: \"\";position: absolute;border-left: 1px solid gray;box-sizing: border-box;top: 0;bottom: 0;left: 50%;z-index: 0;}#sk-container-id-1 div.sk-serial {display: flex;flex-direction: column;align-items: center;background-color: white;padding-right: 0.2em;padding-left: 0.2em;position: relative;}#sk-container-id-1 div.sk-item {position: relative;z-index: 1;}#sk-container-id-1 div.sk-parallel {display: flex;align-items: stretch;justify-content: center;background-color: white;position: relative;}#sk-container-id-1 div.sk-item::before, #sk-container-id-1 div.sk-parallel-item::before {content: \"\";position: absolute;border-left: 1px solid gray;box-sizing: border-box;top: 0;bottom: 0;left: 50%;z-index: -1;}#sk-container-id-1 div.sk-parallel-item {display: flex;flex-direction: column;z-index: 1;position: relative;background-color: white;}#sk-container-id-1 div.sk-parallel-item:first-child::after {align-self: flex-end;width: 50%;}#sk-container-id-1 div.sk-parallel-item:last-child::after {align-self: flex-start;width: 50%;}#sk-container-id-1 div.sk-parallel-item:only-child::after {width: 0;}#sk-container-id-1 div.sk-dashed-wrapped {border: 1px dashed gray;margin: 0 0.4em 0.5em 0.4em;box-sizing: border-box;padding-bottom: 0.4em;background-color: white;}#sk-container-id-1 div.sk-label label {font-family: monospace;font-weight: bold;display: inline-block;line-height: 1.2em;}#sk-container-id-1 div.sk-label-container {text-align: center;}#sk-container-id-1 div.sk-container {/* jupyter's `normalize.less` sets `[hidden] { display: none; }` but bootstrap.min.css set `[hidden] { display: none !important; }` so we also need the `!important` here to be able to override the default hidden behavior on the sphinx rendered scikit-learn.org. See: https://github.com/scikit-learn/scikit-learn/issues/21755 */display: inline-block !important;position: relative;}#sk-container-id-1 div.sk-text-repr-fallback {display: none;}</style><div id=\"sk-container-id-1\" class=\"sk-top-container\"><div class=\"sk-text-repr-fallback\"><pre>LogisticRegression(max_iter=100000,\n",
       "                   random_state=RandomState(MT19937) at 0x7FFF9BE39B40)</pre><b>In a Jupyter environment, please rerun this cell to show the HTML representation or trust the notebook. <br />On GitHub, the HTML representation is unable to render, please try loading this page with nbviewer.org.</b></div><div class=\"sk-container\" hidden><div class=\"sk-item\"><div class=\"sk-estimator sk-toggleable\"><input class=\"sk-toggleable__control sk-hidden--visually\" id=\"sk-estimator-id-1\" type=\"checkbox\" checked><label for=\"sk-estimator-id-1\" class=\"sk-toggleable__label sk-toggleable__label-arrow\">LogisticRegression</label><div class=\"sk-toggleable__content\"><pre>LogisticRegression(max_iter=100000,\n",
       "                   random_state=RandomState(MT19937) at 0x7FFF9BE39B40)</pre></div></div></div></div></div>"
      ],
      "text/plain": [
       "LogisticRegression(max_iter=100000,\n",
       "                   random_state=RandomState(MT19937) at 0x7FFF9BE39B40)"
      ]
     },
     "execution_count": 25,
     "metadata": {},
     "output_type": "execute_result"
    }
   ],
   "source": [
    "from sklearn.linear_model import LogisticRegression\n",
    "\n",
    "# define lgositic regression model object\n",
    "log_reg = LogisticRegression(random_state=random_state, max_iter=100000)\n",
    "\n",
    "# fit the model to training data\n",
    "log_reg.fit(X_train_BOW, Y_train)"
   ]
  },
  {
   "cell_type": "code",
   "execution_count": 26,
   "id": "acef469f",
   "metadata": {},
   "outputs": [
    {
     "data": {
      "text/plain": [
       "array(['pos', 'pos', 'pos', ..., 'pos', 'pos', 'pos'], dtype=object)"
      ]
     },
     "execution_count": 26,
     "metadata": {},
     "output_type": "execute_result"
    }
   ],
   "source": [
    "# make prediction on test data\n",
    "\n",
    "# create BOW for test data\n",
    "X_test_BOW = vectorizer.transform(X_test)\n",
    "\n",
    "# predict using log_reg object\n",
    "y_test_log_reg_predictions = log_reg.predict(X_test_BOW)\n",
    "\n",
    "# view the predictions\n",
    "y_test_log_reg_predictions"
   ]
  },
  {
   "cell_type": "markdown",
   "id": "6a93673c",
   "metadata": {},
   "source": [
    "#### Building the Model\n",
    "First you must split the total data up into a train (70%) and test (30%) set. Next the data must be converted into a bag of words representation in preperation for it to be fed to the logistic regression model. Lastly you create and logistic regression model and fit the train data to the model."
   ]
  },
  {
   "cell_type": "markdown",
   "id": "4d7dd996",
   "metadata": {},
   "source": [
    "# Task 4 - Evaluate Model\n",
    "Evaluate the model built in the previous step and compare it with a baseline model that\n",
    "assigns positive label to all test samples. A) Report accuracy and only for the negative class\n",
    "report precision, recall, f1 score; and B) show a confusion matrix for both the baseline and the\n",
    "logistic regression models. Explain the cause of difference between the accuracy and the f1\n",
    "score of the negative class for the baseline model.\n",
    "\n",
    "Result should be written in below format: (CHECK PDF SPEC SHEET)\n",
    "\n",
    "    A)\n",
    "    Baseline: {‘accuracy’:0.0, ‘precision’:0.0, ’recall’:0.0, ‘f1-score’:0.0}\n",
    "    Logisticregression: {‘accuracy’:0.0, ‘precision’:0.0, ’recall’:0.0, ‘f1-score’:0.0}\n",
    "    \n",
    "    B)\n",
    "    Confusion matrix for baseline model:"
   ]
  },
  {
   "cell_type": "markdown",
   "id": "8e627e55",
   "metadata": {},
   "source": [
    "#### Generate Baseline Model"
   ]
  },
  {
   "cell_type": "code",
   "execution_count": 27,
   "id": "98f98b2f",
   "metadata": {},
   "outputs": [
    {
     "data": {
      "text/plain": [
       "pos    16234\n",
       "neg     3403\n",
       "Name: Label, dtype: int64"
      ]
     },
     "execution_count": 27,
     "metadata": {},
     "output_type": "execute_result"
    }
   ],
   "source": [
    "# identify most frequently occurring sentiment in the train data\n",
    "Y_train.value_counts()"
   ]
  },
  {
   "cell_type": "code",
   "execution_count": 28,
   "id": "857beee7",
   "metadata": {},
   "outputs": [],
   "source": [
    "# assign 'pos' to test data\n",
    "y_test_baseline_predictions = pd.Series(['pos']*len(Y_test))"
   ]
  },
  {
   "cell_type": "code",
   "execution_count": 29,
   "id": "99db9fe3",
   "metadata": {},
   "outputs": [],
   "source": [
    "from sklearn.metrics import accuracy_score"
   ]
  },
  {
   "cell_type": "code",
   "execution_count": 30,
   "id": "fe5ba46e",
   "metadata": {},
   "outputs": [
    {
     "data": {
      "text/plain": [
       "0.8309373886182726"
      ]
     },
     "execution_count": 30,
     "metadata": {},
     "output_type": "execute_result"
    }
   ],
   "source": [
    "accuracy_score(Y_test, y_test_baseline_predictions)"
   ]
  },
  {
   "cell_type": "code",
   "execution_count": 31,
   "id": "9cfa7729",
   "metadata": {},
   "outputs": [
    {
     "data": {
      "text/plain": [
       "0.883568967565641"
      ]
     },
     "execution_count": 31,
     "metadata": {},
     "output_type": "execute_result"
    }
   ],
   "source": [
    "accuracy_score(Y_test, y_test_log_reg_predictions)"
   ]
  },
  {
   "cell_type": "code",
   "execution_count": 32,
   "id": "2596e14e",
   "metadata": {},
   "outputs": [
    {
     "data": {
      "text/plain": [
       "0.8799208648465866"
      ]
     },
     "execution_count": 32,
     "metadata": {},
     "output_type": "execute_result"
    }
   ],
   "source": [
    "from sklearn.model_selection import cross_val_score\n",
    "\n",
    "# find accuracy of model using 3-fold cross validation\n",
    "cross_val_score(LogisticRegression(max_iter=10000), X_train_BOW, Y_train, cv=5).mean()"
   ]
  },
  {
   "cell_type": "markdown",
   "id": "35c2b815",
   "metadata": {},
   "source": [
    "#### Accuracy, Precision, Recall, F1 Score"
   ]
  },
  {
   "cell_type": "code",
   "execution_count": 33,
   "id": "220ef177",
   "metadata": {},
   "outputs": [
    {
     "name": "stderr",
     "output_type": "stream",
     "text": [
      "/usr/local/lib/python3.9/dist-packages/sklearn/metrics/_classification.py:1327: UndefinedMetricWarning: Precision and F-score are ill-defined and being set to 0.0 in labels with no predicted samples. Use `zero_division` parameter to control this behavior.\n",
      "  _warn_prf(average, modifier, msg_start, len(result))\n",
      "/usr/local/lib/python3.9/dist-packages/sklearn/metrics/_classification.py:1327: UndefinedMetricWarning: Precision and F-score are ill-defined and being set to 0.0 in labels with no predicted samples. Use `zero_division` parameter to control this behavior.\n",
      "  _warn_prf(average, modifier, msg_start, len(result))\n"
     ]
    },
    {
     "name": "stdout",
     "output_type": "stream",
     "text": [
      "              precision    recall  f1-score   support\n",
      "\n",
      "         neg       0.00      0.00      0.00      1423\n",
      "         pos       0.83      1.00      0.91      6994\n",
      "\n",
      "    accuracy                           0.83      8417\n",
      "   macro avg       0.42      0.50      0.45      8417\n",
      "weighted avg       0.69      0.83      0.75      8417\n",
      "\n"
     ]
    },
    {
     "name": "stderr",
     "output_type": "stream",
     "text": [
      "/usr/local/lib/python3.9/dist-packages/sklearn/metrics/_classification.py:1327: UndefinedMetricWarning: Precision and F-score are ill-defined and being set to 0.0 in labels with no predicted samples. Use `zero_division` parameter to control this behavior.\n",
      "  _warn_prf(average, modifier, msg_start, len(result))\n"
     ]
    }
   ],
   "source": [
    "from sklearn.metrics import classification_report\n",
    "\n",
    "# base line model classification report\n",
    "print(classification_report(Y_test, y_test_baseline_predictions))"
   ]
  },
  {
   "cell_type": "code",
   "execution_count": 34,
   "id": "e72fc1c0",
   "metadata": {},
   "outputs": [
    {
     "name": "stdout",
     "output_type": "stream",
     "text": [
      "              precision    recall  f1-score   support\n",
      "\n",
      "         neg       0.70      0.54      0.61      1423\n",
      "         pos       0.91      0.95      0.93      6994\n",
      "\n",
      "    accuracy                           0.88      8417\n",
      "   macro avg       0.81      0.75      0.77      8417\n",
      "weighted avg       0.88      0.88      0.88      8417\n",
      "\n"
     ]
    }
   ],
   "source": [
    "# logistic regression classification report\n",
    "print(classification_report(Y_test, y_test_log_reg_predictions))"
   ]
  },
  {
   "cell_type": "markdown",
   "id": "b34c1b5b",
   "metadata": {},
   "source": [
    "### Result\n",
    "Baseline: {‘accuracy’:0.8309373886182726, ‘precision’:0.00, ’recall’:0.00, ‘f1-score’:0.00}\n",
    "\n",
    "Logisticregression: {‘accuracy’:0.883568967565641, ‘precision’:0.70, ’recall’:0.53, ‘f1-score’:0.61}\n",
    "\n",
    "The baseline model has a lower accurary (0.8309) than the logistic regression model (0.8836), therefore the logistic regression model in is 5% more accurate than the baseline.\n",
    "\n",
    "The baseline model predicts all results as positive. Therefore, we see the baseline model has an f1 score of 0 for the negative class since no values were given the class of 'neg'. Since the Logistic Regression model does predict some values as 'neg' we get values > 0 for recall and precision and therefore the f1 score."
   ]
  },
  {
   "cell_type": "markdown",
   "id": "28559125",
   "metadata": {},
   "source": [
    "#### Confusion Matrix"
   ]
  },
  {
   "cell_type": "code",
   "execution_count": 35,
   "id": "ee57d982",
   "metadata": {},
   "outputs": [
    {
     "data": {
      "image/png": "[encoded data removed]",
      "text/plain": [
       "<Figure size 432x288 with 2 Axes>"
      ]
     },
     "metadata": {
      "needs_background": "light"
     },
     "output_type": "display_data"
    }
   ],
   "source": [
    "from sklearn.metrics import ConfusionMatrixDisplay, confusion_matrix\n",
    "cm = confusion_matrix(Y_test, y_test_baseline_predictions)\n",
    "display = ConfusionMatrixDisplay(confusion_matrix=cm, display_labels=log_reg.classes_)\n",
    "display.plot();"
   ]
  },
  {
   "cell_type": "code",
   "execution_count": 36,
   "id": "e5e36e1f",
   "metadata": {},
   "outputs": [
    {
     "data": {
      "image/png": "[encoded data removed]",
      "text/plain": [
       "<Figure size 432x288 with 2 Axes>"
      ]
     },
     "metadata": {
      "needs_background": "light"
     },
     "output_type": "display_data"
    }
   ],
   "source": [
    "cm = confusion_matrix(Y_test, y_test_log_reg_predictions)\n",
    "display = ConfusionMatrixDisplay(confusion_matrix=cm, display_labels=log_reg.classes_)\n",
    "display.plot();"
   ]
  },
  {
   "cell_type": "markdown",
   "id": "57bd73b6",
   "metadata": {},
   "source": [
    "### Result\n",
    "\n",
    "#### Baseline Model\n",
    "- Model correctly identified 0 negative sentiment reviews as negative. (True Negative - TN)\n",
    "- Model correctly identified 6994 positive sentiment reviews as positive. (True Positive - TP)\n",
    "- Model incorrectly identified 0 positive sentiment reviews as negative. (False Negative - FN)\n",
    "- Model incorrectly identified 1423 negative sentiment reviews as positive. (False Positive - FP)\n",
    "\n",
    "\n",
    "- Precision = TP/(TP+FP) = 6994/(6994+1423) = 0.8309373886182726\n",
    "\n",
    "#### Logistic Regression\n",
    "- Model correctly identified 766 negative sentiment reviews as negative. (True Negative - TN)\n",
    "- Model correctly identified 6671 positive sentiment reviews as positive. (True Positive - TP)\n",
    "- Model incorrectly identified 323 positive sentiment reviews as negative. (False Negative - FN)\n",
    "- Model incorrectly identified 657 negative sentiment reviews as positive. (False Positive - FP)\n",
    "\n",
    "\n",
    "- Precision = TP/(TP+FP) = 6671/(6671+657) = 0.9103438864628821"
   ]
  },
  {
   "cell_type": "markdown",
   "id": "0e0bbba1",
   "metadata": {},
   "source": [
    "# Task 5 - Prediction of Predict Database\n",
    "Use the better performing model (hopefully your logistic regression model) to predict the sentiment for the reviews provided in the predict dataset (download ‘predictdata.csv’ from the blackboard). Report the results in a dataframe format with columns ‘Id’, ‘Text’ and ‘Model Prediction’."
   ]
  },
  {
   "cell_type": "markdown",
   "id": "28d12b50",
   "metadata": {},
   "source": [
    "The predict data will be cleaned like is done in step 2"
   ]
  },
  {
   "cell_type": "code",
   "execution_count": 37,
   "id": "6a5f9d3e",
   "metadata": {},
   "outputs": [
    {
     "data": {
      "text/html": [
       "<div>\n",
       "<style scoped>\n",
       "    .dataframe tbody tr th:only-of-type {\n",
       "        vertical-align: middle;\n",
       "    }\n",
       "\n",
       "    .dataframe tbody tr th {\n",
       "        vertical-align: top;\n",
       "    }\n",
       "\n",
       "    .dataframe thead th {\n",
       "        text-align: right;\n",
       "    }\n",
       "</style>\n",
       "<table border=\"1\" class=\"dataframe\">\n",
       "  <thead>\n",
       "    <tr style=\"text-align: right;\">\n",
       "      <th></th>\n",
       "      <th>Id</th>\n",
       "      <th>Text</th>\n",
       "      <th>Label</th>\n",
       "    </tr>\n",
       "  </thead>\n",
       "  <tbody>\n",
       "    <tr>\n",
       "      <th>0</th>\n",
       "      <td>1</td>\n",
       "      <td>the candy is tasty but they totally scam you o...</td>\n",
       "      <td>neg</td>\n",
       "    </tr>\n",
       "    <tr>\n",
       "      <th>1</th>\n",
       "      <td>2</td>\n",
       "      <td>i had been looking for the violet candy with t...</td>\n",
       "      <td>pos</td>\n",
       "    </tr>\n",
       "    <tr>\n",
       "      <th>2</th>\n",
       "      <td>3</td>\n",
       "      <td>these are very pricey so i only enjoy them now...</td>\n",
       "      <td>pos</td>\n",
       "    </tr>\n",
       "    <tr>\n",
       "      <th>3</th>\n",
       "      <td>4</td>\n",
       "      <td>these candies have a mild flavor when compared...</td>\n",
       "      <td>neg</td>\n",
       "    </tr>\n",
       "    <tr>\n",
       "      <th>4</th>\n",
       "      <td>5</td>\n",
       "      <td>this product is a bit pricey for the amt recei...</td>\n",
       "      <td>pos</td>\n",
       "    </tr>\n",
       "  </tbody>\n",
       "</table>\n",
       "</div>"
      ],
      "text/plain": [
       "   Id                                               Text Label\n",
       "0   1  the candy is tasty but they totally scam you o...   neg\n",
       "1   2  i had been looking for the violet candy with t...   pos\n",
       "2   3  these are very pricey so i only enjoy them now...   pos\n",
       "3   4  these candies have a mild flavor when compared...   neg\n",
       "4   5  this product is a bit pricey for the amt recei...   pos"
      ]
     },
     "execution_count": 37,
     "metadata": {},
     "output_type": "execute_result"
    }
   ],
   "source": [
    "# load predict data\n",
    "predict_data = pd.read_csv(\"predictdata.csv\")\n",
    "\n",
    "# drop unwanted columns\n",
    "predict_data.drop(predict_data.columns.difference(['Id', 'Score', 'Text']), axis=1, inplace=True)\n",
    "\n",
    "# apply sentiment function to predict dataset\n",
    "predict_data['Label'] = data.apply(lambda row: sentiment(row), axis=1)\n",
    "\n",
    "# Clean the reviews in the predict data\n",
    "cleaned_predict_data = predict_data[:]\n",
    "cleaned_predict_data[\"Text\"] = cleaned_predict_data[\"Text\"].apply(clean_review)\n",
    "\n",
    "cleaned_predict_data.head()"
   ]
  },
  {
   "cell_type": "code",
   "execution_count": 38,
   "id": "f1e5faf1",
   "metadata": {},
   "outputs": [
    {
     "data": {
      "text/plain": [
       "array(['pos', 'pos', 'pos', 'pos', 'pos'], dtype=object)"
      ]
     },
     "execution_count": 38,
     "metadata": {},
     "output_type": "execute_result"
    }
   ],
   "source": [
    "X_predict = cleaned_predict_data['Text']\n",
    "\n",
    "# make prediction on test data\n",
    "\n",
    "# create BOW for test data\n",
    "X_predict_BOW = vectorizer.transform(X_predict)\n",
    "\n",
    "# predict using log_reg object\n",
    "y_predict = log_reg.predict(X_predict_BOW)\n",
    "\n",
    "# view the predictions\n",
    "y_predict"
   ]
  },
  {
   "cell_type": "code",
   "execution_count": 39,
   "id": "ca528612",
   "metadata": {},
   "outputs": [
    {
     "data": {
      "text/html": [
       "<div>\n",
       "<style scoped>\n",
       "    .dataframe tbody tr th:only-of-type {\n",
       "        vertical-align: middle;\n",
       "    }\n",
       "\n",
       "    .dataframe tbody tr th {\n",
       "        vertical-align: top;\n",
       "    }\n",
       "\n",
       "    .dataframe thead th {\n",
       "        text-align: right;\n",
       "    }\n",
       "</style>\n",
       "<table border=\"1\" class=\"dataframe\">\n",
       "  <thead>\n",
       "    <tr style=\"text-align: right;\">\n",
       "      <th></th>\n",
       "      <th>Id</th>\n",
       "      <th>Text</th>\n",
       "      <th>Label</th>\n",
       "      <th>Predicted</th>\n",
       "    </tr>\n",
       "  </thead>\n",
       "  <tbody>\n",
       "    <tr>\n",
       "      <th>0</th>\n",
       "      <td>1</td>\n",
       "      <td>the candy is tasty but they totally scam you o...</td>\n",
       "      <td>neg</td>\n",
       "      <td>pos</td>\n",
       "    </tr>\n",
       "    <tr>\n",
       "      <th>1</th>\n",
       "      <td>2</td>\n",
       "      <td>i had been looking for the violet candy with t...</td>\n",
       "      <td>pos</td>\n",
       "      <td>pos</td>\n",
       "    </tr>\n",
       "    <tr>\n",
       "      <th>2</th>\n",
       "      <td>3</td>\n",
       "      <td>these are very pricey so i only enjoy them now...</td>\n",
       "      <td>pos</td>\n",
       "      <td>pos</td>\n",
       "    </tr>\n",
       "    <tr>\n",
       "      <th>3</th>\n",
       "      <td>4</td>\n",
       "      <td>these candies have a mild flavor when compared...</td>\n",
       "      <td>neg</td>\n",
       "      <td>pos</td>\n",
       "    </tr>\n",
       "    <tr>\n",
       "      <th>4</th>\n",
       "      <td>5</td>\n",
       "      <td>this product is a bit pricey for the amt recei...</td>\n",
       "      <td>pos</td>\n",
       "      <td>pos</td>\n",
       "    </tr>\n",
       "  </tbody>\n",
       "</table>\n",
       "</div>"
      ],
      "text/plain": [
       "   Id                                               Text Label Predicted\n",
       "0   1  the candy is tasty but they totally scam you o...   neg       pos\n",
       "1   2  i had been looking for the violet candy with t...   pos       pos\n",
       "2   3  these are very pricey so i only enjoy them now...   pos       pos\n",
       "3   4  these candies have a mild flavor when compared...   neg       pos\n",
       "4   5  this product is a bit pricey for the amt recei...   pos       pos"
      ]
     },
     "execution_count": 39,
     "metadata": {},
     "output_type": "execute_result"
    }
   ],
   "source": [
    "cleaned_predict_data['Predicted'] = y_predict\n",
    "cleaned_predict_data"
   ]
  },
  {
   "cell_type": "markdown",
   "id": "0c296eaf",
   "metadata": {},
   "source": [
    "As can be seen above the logistic regression model predicted all the labels as 'pos'"
   ]
  },
  {
   "cell_type": "markdown",
   "id": "50f69416",
   "metadata": {},
   "source": [
    "# Task 6 - Frequent Words\n",
    "What are the most frequent words in the review dataset (use a world cloud to show this, remove stop words) and show which words play a significant role in classify whether the review is positive or negative."
   ]
  },
  {
   "cell_type": "code",
   "execution_count": 40,
   "id": "133a6230",
   "metadata": {},
   "outputs": [
    {
     "name": "stdout",
     "output_type": "stream",
     "text": [
      "Defaulting to user installation because normal site-packages is not writeable\n",
      "Requirement already satisfied: wordcloud in /home/s4674720/.local/lib/python3.9/site-packages (1.8.2.2)\n",
      "Requirement already satisfied: numpy>=1.6.1 in /usr/local/lib/python3.9/dist-packages (from wordcloud) (1.23.1)\n",
      "Requirement already satisfied: matplotlib in /usr/local/lib/python3.9/dist-packages (from wordcloud) (3.5.2)\n",
      "Requirement already satisfied: pillow in /usr/local/lib/python3.9/dist-packages (from wordcloud) (9.2.0)\n",
      "Requirement already satisfied: pyparsing>=2.2.1 in /usr/local/lib/python3.9/dist-packages (from matplotlib->wordcloud) (3.0.9)\n",
      "Requirement already satisfied: packaging>=20.0 in /usr/local/lib/python3.9/dist-packages (from matplotlib->wordcloud) (21.3)\n",
      "Requirement already satisfied: kiwisolver>=1.0.1 in /usr/local/lib/python3.9/dist-packages (from matplotlib->wordcloud) (1.4.3)\n",
      "Requirement already satisfied: python-dateutil>=2.7 in /usr/local/lib/python3.9/dist-packages (from matplotlib->wordcloud) (2.8.2)\n",
      "Requirement already satisfied: fonttools>=4.22.0 in /usr/local/lib/python3.9/dist-packages (from matplotlib->wordcloud) (4.34.4)\n",
      "Requirement already satisfied: cycler>=0.10 in /usr/local/lib/python3.9/dist-packages (from matplotlib->wordcloud) (0.11.0)\n",
      "Requirement already satisfied: six>=1.5 in /usr/local/lib/python3.9/dist-packages (from python-dateutil>=2.7->matplotlib->wordcloud) (1.16.0)\n",
      "--- Logging error ---\n",
      "Traceback (most recent call last):\n",
      "  File \"/usr/local/lib/python3.9/dist-packages/pip/_internal/utils/logging.py\", line 177, in emit\n",
      "    self.console.print(renderable, overflow=\"ignore\", crop=False, style=style)\n",
      "  File \"/usr/local/lib/python3.9/dist-packages/pip/_vendor/rich/console.py\", line 1752, in print\n",
      "    extend(render(renderable, render_options))\n",
      "  File \"/usr/local/lib/python3.9/dist-packages/pip/_vendor/rich/console.py\", line 1390, in render\n",
      "    for render_output in iter_render:\n",
      "  File \"/usr/local/lib/python3.9/dist-packages/pip/_internal/utils/logging.py\", line 134, in __rich_console__\n",
      "    for line in lines:\n",
      "  File \"/usr/local/lib/python3.9/dist-packages/pip/_vendor/rich/segment.py\", line 245, in split_lines\n",
      "    for segment in segments:\n",
      "  File \"/usr/local/lib/python3.9/dist-packages/pip/_vendor/rich/console.py\", line 1368, in render\n",
      "    renderable = rich_cast(renderable)\n",
      "  File \"/usr/local/lib/python3.9/dist-packages/pip/_vendor/rich/protocol.py\", line 36, in rich_cast\n",
      "    renderable = cast_method()\n",
      "  File \"/usr/local/lib/python3.9/dist-packages/pip/_internal/self_outdated_check.py\", line 130, in __rich__\n",
      "    pip_cmd = get_best_invocation_for_this_pip()\n",
      "  File \"/usr/local/lib/python3.9/dist-packages/pip/_internal/utils/entrypoints.py\", line 58, in get_best_invocation_for_this_pip\n",
      "    if found_executable and os.path.samefile(\n",
      "  File \"/usr/lib/python3.9/genericpath.py\", line 101, in samefile\n",
      "    s2 = os.stat(f2)\n",
      "FileNotFoundError: [Errno 2] No such file or directory: '/usr/bin/pip'\n",
      "Call stack:\n",
      "  File \"/usr/local/bin/pip\", line 8, in <module>\n",
      "    sys.exit(main())\n",
      "  File \"/usr/local/lib/python3.9/dist-packages/pip/_internal/cli/main.py\", line 70, in main\n",
      "    return command.main(cmd_args)\n",
      "  File \"/usr/local/lib/python3.9/dist-packages/pip/_internal/cli/base_command.py\", line 101, in main\n",
      "    return self._main(args)\n",
      "  File \"/usr/local/lib/python3.9/dist-packages/pip/_internal/cli/base_command.py\", line 223, in _main\n",
      "    self.handle_pip_version_check(options)\n",
      "  File \"/usr/local/lib/python3.9/dist-packages/pip/_internal/cli/req_command.py\", line 148, in handle_pip_version_check\n",
      "    pip_self_version_check(session, options)\n",
      "  File \"/usr/local/lib/python3.9/dist-packages/pip/_internal/self_outdated_check.py\", line 237, in pip_self_version_check\n",
      "    logger.info(\"[present-rich] %s\", upgrade_prompt)\n",
      "  File \"/usr/lib/python3.9/logging/__init__.py\", line 1446, in info\n",
      "    self._log(INFO, msg, args, **kwargs)\n",
      "  File \"/usr/lib/python3.9/logging/__init__.py\", line 1589, in _log\n",
      "    self.handle(record)\n",
      "  File \"/usr/lib/python3.9/logging/__init__.py\", line 1599, in handle\n",
      "    self.callHandlers(record)\n",
      "  File \"/usr/lib/python3.9/logging/__init__.py\", line 1661, in callHandlers\n",
      "    hdlr.handle(record)\n",
      "  File \"/usr/lib/python3.9/logging/__init__.py\", line 952, in handle\n",
      "    self.emit(record)\n",
      "  File \"/usr/local/lib/python3.9/dist-packages/pip/_internal/utils/logging.py\", line 179, in emit\n",
      "    self.handleError(record)\n",
      "Message: '[present-rich] %s'\n",
      "Arguments: (UpgradePrompt(old='22.1.2', new='22.2.2'),)\n"
     ]
    }
   ],
   "source": [
    "!pip install wordcloud\n",
    "from wordcloud import WordCloud\n",
    "from matplotlib import pyplot as plt"
   ]
  },
  {
   "cell_type": "code",
   "execution_count": 41,
   "id": "f65d5a6b",
   "metadata": {},
   "outputs": [
    {
     "data": {
      "image/png": "[encoded data removed]",
      "text/plain": [
       "<Figure size 432x288 with 1 Axes>"
      ]
     },
     "metadata": {
      "needs_background": "light"
     },
     "output_type": "display_data"
    }
   ],
   "source": [
    "text = \" \".join(cleaned_predict_data[\"Text\"])\n",
    "word_cloud = WordCloud(stopwords=set(stop_words)).generate(text)\n",
    "plt.imshow(word_cloud, interpolation='bilinear');"
   ]
  },
  {
   "cell_type": "code",
   "execution_count": 42,
   "id": "fd966a23",
   "metadata": {},
   "outputs": [
    {
     "data": {
      "text/plain": [
       "<wordcloud.wordcloud.WordCloud at 0x7fffc04c4cd0>"
      ]
     },
     "execution_count": 42,
     "metadata": {},
     "output_type": "execute_result"
    }
   ],
   "source": [
    "# word_cloud words\n",
    "word_cloud"
   ]
  },
  {
   "cell_type": "code",
   "execution_count": 43,
   "id": "fc1588ea",
   "metadata": {},
   "outputs": [],
   "source": [
    "### Important Words for Predictions\n",
    "# function adapted from https://aneesha.medium.com/visualising-top-features-in-linear-svm-with-scikit-learn-and-matplotlib-3454ab18a14d\n",
    "def plot_coefficients(classifier, feature_names, top_features=10):\n",
    "    coef = classifier.coef_.ravel()\n",
    "    top_positive_coefficients = np.argsort(coef)[-top_features:]\n",
    "    top_negative_coefficients = np.argsort(coef)[:top_features]\n",
    "    top_coefficients = np.hstack([top_negative_coefficients, top_positive_coefficients])\n",
    "    # create plot\n",
    "    plt.figure(figsize=(15, 5))\n",
    "    colors = ['red' if c < 0 else 'blue' for c in coef[top_coefficients]]\n",
    "    plt.bar(np.arange(2 * top_features), coef[top_coefficients], color=colors)\n",
    "    feature_names = np.array(feature_names)\n",
    "    plt.xticks(np.arange(0, 2 * top_features), feature_names[top_coefficients], rotation=90, ha='right')\n",
    "    plt.xlabel(\"Important Words\")\n",
    "    plt.ylabel(\"Model Coefficient\")\n",
    "    plt.title(\"Important words with their model coefficient\")\n",
    "    plt.show()"
   ]
  },
  {
   "cell_type": "code",
   "execution_count": 44,
   "id": "8cf00986",
   "metadata": {},
   "outputs": [
    {
     "data": {
      "image/png": "[encoded data removed]",
      "text/plain": [
       "<Figure size 1080x360 with 1 Axes>"
      ]
     },
     "metadata": {
      "needs_background": "light"
     },
     "output_type": "display_data"
    }
   ],
   "source": [
    "plot_coefficients(log_reg, vectorizer.get_feature_names_out())"
   ]
  },
  {
   "cell_type": "markdown",
   "id": "688d9683",
   "metadata": {},
   "source": [
    "# Task 7 - Classification with Unabalnced Data\n",
    "Write in three lines with your own words about classification with unbalanced data. What is the issue with unbalanced data and how you could handle it in a better way (you don’t need to implement your solution)? Provide the issue with imbalanced classification and your suggestion in less than 4 sentences that reader can understand clearly using research from the internet resources."
   ]
  },
  {
   "cell_type": "markdown",
   "id": "2c69c56f",
   "metadata": {},
   "source": [
    "Unbalanced data can result in biases forming in the model causing the model to less acurately predict the unbalanced category as the model will have a bias towards the majority class (Studdard, 2021). Unbalanced data can be fixed by the use of undersampling (reduce the sample size of the majority class) or by oversampling (increase sample size of the minority class by replication or predictions) (raman_k, 2020).\n",
    "\n",
    "#### References\n",
    "- Studdard, B. (2021, November 20). *Classification with Imbalanced Data.* Towards Data Science.\n",
    "https://towardsdatascience.com/classification-with-imbalanced-data-f13ccb0496b3\n",
    "\n",
    "- Kareev, M. (2019, July 25). *Classification of unbalanced datasets.* Towards Data Science.\n",
    "https://towardsdatascience.com/classification-of-unbalanced-datasets-8576e9e366af\n",
    "\n",
    "- raman_k (2020, July 17). *Handling Imbalanced Data for Classification.* Geeks for Geeks.\n",
    "https://www.geeksforgeeks.org/handling-imbalanced-data-for-classification/"
   ]
  }
 ],
 "metadata": {
  "kernelspec": {
   "display_name": "Python 3 (ipykernel)",
   "language": "python",
   "name": "python3"
  },
  "language_info": {
   "codemirror_mode": {
    "name": "ipython",
    "version": 3
   },
   "file_extension": ".py",
   "mimetype": "text/x-python",
   "name": "python",
   "nbconvert_exporter": "python",
   "pygments_lexer": "ipython3",
   "version": "3.9.13"
  }
 },
 "nbformat": 4,
 "nbformat_minor": 5
}
